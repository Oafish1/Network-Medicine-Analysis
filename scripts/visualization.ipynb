{
 "cells": [
  {
   "cell_type": "code",
   "execution_count": 1,
   "metadata": {},
   "outputs": [],
   "source": [
    "%%capture\n",
    "%cd \"Compound GRN ENC Analysis/scripts\"\n",
    "%matplotlib agg"
   ]
  },
  {
   "cell_type": "code",
   "execution_count": 2,
   "metadata": {},
   "outputs": [],
   "source": [
    "from collections import defaultdict\n",
    "from itertools import product\n",
    "import os\n",
    "\n",
    "import matplotlib\n",
    "import matplotlib.pyplot as plt\n",
    "import numpy as np\n",
    "import pandas as pd\n",
    "import seaborn as sns\n",
    "from statannotations.Annotator import Annotator\n",
    "\n",
    "# Params\n",
    "DATA_FOLDER = os.path.join(os.path.abspath(''), '../../data')\n",
    "RESULTS_FOLDER = os.path.join(os.path.abspath(''), '../results')\n",
    "PLOTS_FOLDER = os.path.join(os.path.abspath(''), '../plots')\n",
    "\n",
    "# Style\n",
    "sns.set_theme(context='talk', style='white', palette='Accent')\n",
    "matplotlib.rcParams['pdf.fonttype'] = 42\n",
    "matplotlib.rcParams['ps.fonttype'] = 42\n"
   ]
  },
  {
   "cell_type": "markdown",
   "metadata": {},
   "source": [
    "# Data"
   ]
  },
  {
   "cell_type": "code",
   "execution_count": 3,
   "metadata": {},
   "outputs": [],
   "source": [
    "\"\"\"\n",
    "Cohort : Disease : Delimiter\n",
    "CMC: SCZ : tsv\n",
    "UCLA_ASD: ASD : csv\n",
    "Urban_DLPFC: BPD, SCZ : tsv\n",
    "\"\"\"\n",
    "data_sources = (\n",
    "    ('CMC', 'SCZ', '\\t'),\n",
    "    ('UCLA_ASD', 'ASD', ','),\n",
    "    ('Urban_DLPFC', 'BPD', '\\t'),\n",
    "    ('Urban_DLPFC', 'SCZ', '\\t'),\n",
    ")\n",
    "group, disease, delimiter = data_sources[1]"
   ]
  },
  {
   "cell_type": "code",
   "execution_count": 4,
   "metadata": {},
   "outputs": [],
   "source": [
    "# Get AD, BPD, and SCZ labels\n",
    "gene_dir = os.path.join(DATA_FOLDER, 'new_labels')\n",
    "gene_fnames = [fname for fname in os.listdir(gene_dir) if fname.endswith('.txt')]\n",
    "gene_lists = {'.'.join(fname.split('.')[:-1]): np.loadtxt(os.path.join(gene_dir, fname), dtype=str) for fname in gene_fnames}\n",
    "gene_lists['BPD'] = gene_lists.pop('BD')\n",
    "\n",
    "# Get ASD labels\n",
    "sfari = pd.read_csv(os.path.join(DATA_FOLDER, 'sfari/SFARI-Gene_genes_01-16-2024release_03-21-2024export.csv'))\n",
    "gene_score_threshold = -1\n",
    "sfari = sfari.loc[sfari['gene-score'] > gene_score_threshold]  # Threshold by score\n",
    "gene_lists['ASD'] = sfari['gene-symbol'].to_numpy()\n",
    "\n",
    "# Set positive genes\n",
    "positive_genes = gene_lists[disease]\n",
    "\n",
    "# Get files for contrast\n",
    "base_dir = os.path.join(DATA_FOLDER, 'merged_GRNs_v2', group)\n",
    "disease_folder = os.path.join(base_dir, disease)\n",
    "control_folder = os.path.join(base_dir, 'ctrl')\n",
    "grn_fnames = os.listdir(control_folder)  # Should be the same names in either folder\n",
    "num_panels = len(grn_fnames)\n",
    "\n",
    "# Get groups and cell-type based on fname\n",
    "get_cell_type = lambda fname: '_'.join(fname.split('_')[:-1])\n",
    "# Convert to result file name\n",
    "get_result_name = lambda fname: f'{group}_{disease}_{get_cell_type(fname)}_prioritized_genes.csv'"
   ]
  },
  {
   "cell_type": "markdown",
   "metadata": {},
   "source": [
    "# Network Analyses"
   ]
  },
  {
   "cell_type": "markdown",
   "metadata": {},
   "source": [
    "## Performance"
   ]
  },
  {
   "cell_type": "code",
   "execution_count": 6,
   "metadata": {},
   "outputs": [],
   "source": [
    "fname = os.path.join(RESULTS_FOLDER, f'{group}_{disease}_performance.csv')\n",
    "df = pd.read_csv(fname, index_col=0)  # Load stats\n",
    "\n",
    "# Get baselines\n",
    "baselines = {ct: None for ct in df['Cell Type'].unique()}\n",
    "for ct in list(baselines):\n",
    "    df_temp = pd.read_csv(os.path.join(RESULTS_FOLDER, f'{group}_{disease}_{ct}_prioritized_genes.csv'), index_col=0)\n",
    "    num_neg = (df_temp['label'] == 0).sum()\n",
    "    num_pos = (df_temp['label'] == 1).sum()\n",
    "    baseline = num_pos / (num_pos + num_neg)\n",
    "    baselines[ct] = baseline\n",
    "\n",
    "# Create df\n",
    "for ct, base in baselines.items():\n",
    "    df.loc[df['Cell Type'] == ct, 'AUPRC'] /= float(base)\n",
    "    df.loc[df['Cell Type'] == ct, 'Validation AUPRC'] /= float(base)\n",
    "df = df[['Cell Type', 'Fold'] + ['AUPRC', 'Validation AUPRC']]\n",
    "df = df.melt(id_vars=['Cell Type', 'Fold'], value_name='Fold Change', var_name='Statistic')\n",
    "\n",
    "# Plot\n",
    "fig, ax = plt.subplots(1, 1, figsize=(10, 4))\n",
    "sns.boxplot(data=df, x='Cell Type', y='Fold Change', hue='Statistic', ax=ax)\n",
    "sns.despine()\n",
    "plt.axhline(y=1, color='black', ls='--')\n",
    "# plt.ylim(0, 1)\n",
    "plt.xticks(rotation=90)\n",
    "fig.savefig(os.path.join(PLOTS_FOLDER, f'GCN_Performance_{group}_{disease}.pdf'), bbox_inches='tight')"
   ]
  },
  {
   "cell_type": "markdown",
   "metadata": {},
   "source": [
    "## In and Out Degrees"
   ]
  },
  {
   "cell_type": "code",
   "execution_count": 7,
   "metadata": {},
   "outputs": [],
   "source": [
    "# Create figures\n",
    "fig, ax = {}, {}\n",
    "key = 'out'; fig[key], ax[key] = plt.subplots(1, num_panels+1, figsize=(3*(num_panels+1), 3), sharex=True, sharey=True)  # Out\n",
    "key = 'in'; fig[key], ax[key] = plt.subplots(1, num_panels+1, figsize=(3*(num_panels+1), 3), sharex=True, sharey=True)  # In\n",
    "for k in ax: ax[k] = ax[k].flatten()\n",
    "\n",
    "# Construct consistent objects\n",
    "cmap = 'Blues'\n",
    "norm = plt.Normalize(0, .2)  # Change top as needed\n",
    "sm = plt.cm.ScalarMappable(cmap=cmap, norm=norm)\n",
    "\n",
    "# Plot network analyses\n",
    "for i, fname in enumerate(grn_fnames):\n",
    "    # Load graph\n",
    "    disease_graph = pd.read_csv(os.path.join(disease_folder, fname), index_col=False, delimiter=delimiter)\n",
    "    disease_graph['disease'] = 'Disease'\n",
    "    control_graph = pd.read_csv(os.path.join(control_folder, fname), index_col=False, delimiter=delimiter)\n",
    "    control_graph['disease'] = 'Control'\n",
    "    combined_graph = pd.concat((disease_graph, control_graph), axis=0)\n",
    "\n",
    "    # Load scores\n",
    "    scores = pd.read_csv(os.path.join(RESULTS_FOLDER, get_result_name(fname)), index_col=0)[['label', 'mean', 'std']]\n",
    "\n",
    "    # Out degree plot\n",
    "    plt.sca(ax['out'][i])\n",
    "    out_degree_df = combined_graph.copy()\n",
    "    out_degree_df['Out Degree'] = 1\n",
    "    out_degree_df = out_degree_df[['TF', 'disease', 'Out Degree']].groupby(['TF', 'disease']).sum().reset_index()\n",
    "    out_degree_df = out_degree_df.pivot(index='TF', columns='disease', values='Out Degree').fillna(0)\n",
    "    out_degree_df = out_degree_df.join(scores, on='TF')\n",
    "    out_degree_df = out_degree_df[['Control', 'Disease', 'mean']].groupby(['Control', 'Disease']).mean().reset_index()\n",
    "    sns.scatterplot(data=out_degree_df, x='Control', y='Disease', c=out_degree_df['mean'], cmap=cmap, norm=norm)  # , hue='mean'\n",
    "    sns.despine()\n",
    "    plt.xlabel('Control'); plt.ylabel('Disease')\n",
    "    # plt.gca().get_legend().remove()\n",
    "\n",
    "    # In degree plot\n",
    "    plt.sca(ax['in'][i])\n",
    "    in_degree_df = combined_graph.copy()\n",
    "    in_degree_df['In Degree'] = 1\n",
    "    in_degree_df = in_degree_df[['target', 'disease', 'In Degree']].groupby(['target', 'disease']).sum().reset_index()\n",
    "    in_degree_df = in_degree_df.pivot(index='target', columns='disease', values='In Degree').fillna(0)\n",
    "    in_degree_df = in_degree_df.join(scores, on='target')\n",
    "    in_degree_df = in_degree_df[['Control', 'Disease', 'mean']].groupby(['Control', 'Disease']).mean().reset_index()\n",
    "    sns.scatterplot(data=in_degree_df, x='Control', y='Disease', c=in_degree_df['mean'], cmap=cmap, norm=norm)\n",
    "    sns.despine()\n",
    "    plt.xlabel('Control'); plt.ylabel('Disease')\n",
    "    # plt.gca().get_legend().remove()\n",
    "\n",
    "# Insert colorbars\n",
    "key = 'out'; ax[key][-1].axis('off'); fig[key].colorbar(sm, ax=ax[key][-1])\n",
    "key = 'in'; ax[key][-1].axis('off'); fig[key].colorbar(sm, ax=ax[key][-1])\n",
    "\n",
    "# Formatting\n",
    "fig['out'].suptitle('Out Degree')\n",
    "fig['in'].suptitle('In Degree')\n",
    "\n",
    "# Save figures\n",
    "fig['out'].savefig(os.path.join(PLOTS_FOLDER, f'DegreeOut_{group}_{disease}.pdf'), bbox_inches='tight')\n",
    "fig['in'].savefig(os.path.join(PLOTS_FOLDER, f'DegreeIn_{group}_{disease}.pdf'), bbox_inches='tight')\n",
    "\n",
    "# Close figs\n",
    "plt.close()"
   ]
  },
  {
   "cell_type": "markdown",
   "metadata": {},
   "source": [
    "## Score by Label"
   ]
  },
  {
   "cell_type": "code",
   "execution_count": 8,
   "metadata": {},
   "outputs": [
    {
     "name": "stdout",
     "output_type": "stream",
     "text": [
      "p-value annotation legend:\n",
      "      ns: 5.00e-02 < p <= 1.00e+00\n",
      "       *: 1.00e-02 < p <= 5.00e-02\n",
      "      **: 1.00e-03 < p <= 1.00e-02\n",
      "     ***: 1.00e-04 < p <= 1.00e-03\n",
      "    ****: p <= 1.00e-04\n",
      "\n",
      "endo_Control vs. endo_Disease: Mann-Whitney-Wilcoxon test two-sided, P_val:8.917e-04 U_stat=1.693e+05\n",
      "astro_Control vs. astro_Disease: Mann-Whitney-Wilcoxon test two-sided, P_val:2.836e-05 U_stat=1.134e+05\n",
      "excitatory_Control vs. excitatory_Disease: Mann-Whitney-Wilcoxon test two-sided, P_val:1.433e-04 U_stat=3.342e+04\n",
      "inhibitory_Control vs. inhibitory_Disease: Mann-Whitney-Wilcoxon test two-sided, P_val:2.304e-05 U_stat=2.482e+04\n",
      "micro_Control vs. micro_Disease: Mann-Whitney-Wilcoxon test two-sided, P_val:1.369e-03 U_stat=1.302e+05\n",
      "oligo_Control vs. oligo_Disease: Mann-Whitney-Wilcoxon test two-sided, P_val:1.587e-06 U_stat=7.017e+04\n",
      "opc_Control vs. opc_Disease: Mann-Whitney-Wilcoxon test two-sided, P_val:9.954e-03 U_stat=9.762e+04\n",
      "vlmc_Control vs. vlmc_Disease: Mann-Whitney-Wilcoxon test two-sided, P_val:2.451e-03 U_stat=1.959e+05\n"
     ]
    }
   ],
   "source": [
    "# Create figure\n",
    "fig, ax = plt.subplots(1, 1, figsize=(2*num_panels, 3), sharex=True, sharey=True)\n",
    "\n",
    "# Create df\n",
    "df_all = pd.DataFrame()\n",
    "for i, fname in enumerate(grn_fnames):\n",
    "    # Load scores\n",
    "    scores = pd.read_csv(os.path.join(RESULTS_FOLDER, get_result_name(fname)), index_col=0)[['label', 'mean', 'std']]\n",
    "\n",
    "    # Format df\n",
    "    df = scores.copy()\n",
    "    df.loc[df['label'] == 0, 'label'] = 'Control'; df.loc[df['label'] == 1, 'label'] = 'Disease'\n",
    "    df = df.rename(columns={'label': 'Label', 'mean': 'Score'})\n",
    "    df['Cell Type'] = get_cell_type(fname)\n",
    "    df_all = pd.concat((df_all, df), axis=0)\n",
    "\n",
    "# Params\n",
    "hue_order = ['Control', 'Disease']\n",
    "\n",
    "# Plot\n",
    "plt.sca(ax)\n",
    "sns.violinplot(data=df_all, x='Cell Type', y='Score', hue='Label', hue_order=hue_order, split=True, inner='quart', density_norm='count')\n",
    "sns.despine()\n",
    "# plt.title('Score Distribution by Label')\n",
    "\n",
    "# Annotate significance\n",
    "pairs = [((ct, hue_order[0]), (ct, hue_order[1])) for ct in df_all['Cell Type'].unique()]\n",
    "annotator = Annotator(ax, pairs, data=df_all, x='Cell Type', y='Score', hue='Label', hue_order=hue_order)\n",
    "annotator.configure(test='Mann-Whitney', text_format='star', loc='outside')\n",
    "results = annotator.apply_test().annotate()\n",
    "\n",
    "# Save figure\n",
    "fig.savefig(os.path.join(PLOTS_FOLDER, f'DistributionScore_{group}_{disease}.pdf'), bbox_inches='tight')\n",
    "plt.close()"
   ]
  },
  {
   "cell_type": "markdown",
   "metadata": {},
   "source": [
    "## Score by Graph"
   ]
  },
  {
   "cell_type": "code",
   "execution_count": 9,
   "metadata": {},
   "outputs": [
    {
     "name": "stdout",
     "output_type": "stream",
     "text": [
      "p-value annotation legend:\n",
      "      ns: 5.00e-02 < p <= 1.00e+00\n",
      "       *: 1.00e-02 < p <= 5.00e-02\n",
      "      **: 1.00e-03 < p <= 1.00e-02\n",
      "     ***: 1.00e-04 < p <= 1.00e-03\n",
      "    ****: p <= 1.00e-04\n",
      "\n",
      "endo_Control vs. endo_Disease: Mann-Whitney-Wilcoxon test two-sided, P_val:2.557e-21 U_stat=4.631e+06\n",
      "astro_Control vs. astro_Disease: Mann-Whitney-Wilcoxon test two-sided, P_val:6.003e-14 U_stat=3.538e+06\n",
      "excitatory_Control vs. excitatory_Disease: Mann-Whitney-Wilcoxon test two-sided, P_val:5.397e-07 U_stat=1.356e+06\n",
      "inhibitory_Control vs. inhibitory_Disease: Mann-Whitney-Wilcoxon test two-sided, P_val:1.113e-01 U_stat=6.533e+05\n",
      "micro_Control vs. micro_Disease: Mann-Whitney-Wilcoxon test two-sided, P_val:3.709e-14 U_stat=3.133e+06\n",
      "oligo_Control vs. oligo_Disease: Mann-Whitney-Wilcoxon test two-sided, P_val:7.730e-01 U_stat=2.529e+06\n",
      "opc_Control vs. opc_Disease: Mann-Whitney-Wilcoxon test two-sided, P_val:1.542e-08 U_stat=3.123e+06\n",
      "vlmc_Control vs. vlmc_Disease: Mann-Whitney-Wilcoxon test two-sided, P_val:7.407e-13 U_stat=4.773e+06\n"
     ]
    }
   ],
   "source": [
    "# Create figure\n",
    "fig, ax = plt.subplots(1, 1, figsize=(2*num_panels, 3), sharex=True, sharey=True)\n",
    "\n",
    "# Create df\n",
    "df_all = pd.DataFrame()\n",
    "for i, fname in enumerate(grn_fnames):\n",
    "    # Load graph\n",
    "    disease_graph = pd.read_csv(os.path.join(disease_folder, fname), index_col=False, delimiter=delimiter)\n",
    "    disease_graph['disease'] = 'Disease'\n",
    "    control_graph = pd.read_csv(os.path.join(control_folder, fname), index_col=False, delimiter=delimiter)\n",
    "    control_graph['disease'] = 'Control'\n",
    "    combined_graph = pd.concat((disease_graph, control_graph), axis=0)\n",
    "\n",
    "    # Load scores\n",
    "    scores = pd.read_csv(os.path.join(RESULTS_FOLDER, get_result_name(fname)), index_col=0)[['label', 'mean', 'std']]\n",
    "\n",
    "    # Format df\n",
    "    control_genes = np.unique(control_graph['TF'].to_list() + control_graph['target'].to_list())\n",
    "    control_genes = list(set(control_genes).intersection(set(scores.index)))\n",
    "    control_df = pd.DataFrame({'genes': control_genes})\n",
    "    control_df['Graph'] = 'Control'\n",
    "    disease_genes = np.unique(disease_graph['TF'].to_list() + disease_graph['target'].to_list())\n",
    "    disease_genes = list(set(disease_genes).intersection(set(scores.index)))\n",
    "    disease_df = pd.DataFrame({'genes': disease_genes})\n",
    "    disease_df['Graph'] = 'Disease'\n",
    "    df = pd.concat((control_df, disease_df), axis=0).reset_index(drop=True)\n",
    "    df = df.join(scores, on='genes')\n",
    "    df = df.rename(columns={'mean': 'Score'})\n",
    "    df['Cell Type'] = get_cell_type(fname)\n",
    "    df_all = pd.concat((df_all, df), axis=0)\n",
    "\n",
    "# Params\n",
    "hue_order = ['Control', 'Disease']\n",
    "\n",
    "# Plot\n",
    "plt.sca(ax)\n",
    "sns.violinplot(data=df_all, x='Cell Type', y='Score', hue='Graph', hue_order=hue_order, split=True, inner='quart', density_norm='count')\n",
    "sns.despine()\n",
    "# plt.title('Score Distribution by Graph')\n",
    "\n",
    "# Annotate significance\n",
    "pairs = [((ct, hue_order[0]), (ct, hue_order[1])) for ct in df_all['Cell Type'].unique()]\n",
    "annotator = Annotator(ax, pairs, data=df_all, x='Cell Type', y='Score', hue='Graph', hue_order=hue_order)\n",
    "annotator.configure(test='Mann-Whitney', text_format='star', loc='outside')\n",
    "results = annotator.apply_test().annotate()\n",
    "\n",
    "# Save figure\n",
    "fig.savefig(os.path.join(PLOTS_FOLDER, f'DistributionDisease_{group}_{disease}.pdf'), bbox_inches='tight')\n",
    "plt.close()"
   ]
  },
  {
   "cell_type": "markdown",
   "metadata": {},
   "source": [
    "## Drug Targets"
   ]
  },
  {
   "cell_type": "code",
   "execution_count": 21,
   "metadata": {},
   "outputs": [
    {
     "name": "stdout",
     "output_type": "stream",
     "text": [
      "Selected Drugs: DB00228, DB11148, DB01049, DB13345, DB01189, DB00273, DB04855, DB11273, DB13025, DB01558, DB00628, DB00683, DB12404, DB00546, DB00690, DB13335, DB13437, DB09017, DB01595, DB15489, DB01594, DB00897, DB01589, DB00842, DB00829, DB01489, DB01588, DB01587, DB01511, DB00786, DB01544, DB01545, DB01553, DB01068, DB01559, DB13837, DB00404, DB14719, DB01215, DB14715, DB09166, DB13872, DB14672, DB00349, DB14028, DB09089, DB00186, DB00475, DB00312, DB00371, DB00463, DB00794, DB01159, DB00306, DB00241, DB01239, DB00753, DB01236, DB09283, DB01956, DB01028, DB01205, DB00292, DB08896, DB00818, DB09118, DB00907, DB01437, DB00402, DB01107, DB01567, DB00237, DB00189, DB13643, DB00231, DB06637, DB00801, DB11859, DB11582, DB09167, DB00193, DB05541, DB13269, DB00252, DB00909, DB01363, DB09231, DB01331, DB00562, DB09238, DB00606, DB09060, DB00825, DB09085, DB00028, DB10772, DB11278, DB01577, DB12107, DB00555, DB06603, DB00202, DB05015, DB01388, DB00675, DB09232, DB09088, DB09342, DB09345, DB09195, DB00398, DB01000, DB00564, DB09078, DB00333, DB00242, DB00368, DB09236, DB00653, DB06262, DB11124, DB00659, DB01329, DB00456, DB16690, DB01268, DB01442, DB11571, DB00277, DB09079, DB11300, DB00303, DB00098, DB13151, DB00568, DB00201, DB00393, DB00988, DB09228, DB00578, DB12377, DB08838, DB01602, DB00270, DB01043, DB00819, DB00477, DB09319, DB09225, DB06579, DB00159, DB00182, DB00210, DB00131, DB00459, DB14840, DB00668, DB00651, DB00148, DB00274, DB01118, DB00599, DB00191, DB00591, DB01365, DB00430, DB09568, DB00485, DB01355, DB13751, DB01354, DB00523, DB01353, DB13191, DB01352, DB01351, DB01603, DB06404, DB12278, DB06589, DB00849, DB00346, DB01483, DB11755, DB01496, DB09202, DB09205, DB01173, DB01169, DB01163, DB00696, DB00767, DB00926, DB08889, DB06016, DB00713, DB00418, DB06595, DB01136, DB13985, DB13581, DB08795, DB09204, DB01186, DB00508, DB01303, DB00401, DB00493, DB00415, DB01328, DB01327, DB01325, DB01149, DB09068, DB01054, DB00570, DB00548, DB08897, DB06211, DB01406, DB00739, DB11572, DB00747, DB00759, DB11603, DB01036, DB11855, DB01427, DB11800, DB00805, DB01520, DB00852, DB00725, DB00679, DB11275, DB12455, DB11181, DB12598, DB00607, DB00598, DB00589, DB06607, DB00572, DB00340, DB01023, DB00567, DB00560, DB03313, DB03756, DB05121, DB01472, DB09093, DB09099, DB00247, DB01267, DB01254, DB09092, DB09128, DB01229, DB01235, DB01221, DB14879, DB00246, DB09288, DB01744, DB00594, DB14738, DB00917, DB00799, DB09050, DB01108, DB11817, DB00217, DB12147, DB00451, DB05260, DB00449, DB04841, DB01373, DB00438, DB00319, DB00622, DB01140, DB00627, DB01142, DB01621, DB01144, DB01014, DB00795, DB00067, DB01415, DB15494, DB01044, DB11886, DB01041, DB00244, DB00898, DB01213, DB04272, DB01034, DB06077, DB15258, DB01248, DB09401, DB00893, DB06771, DB00174, DB13152, DB01223, DB08814, DB00491, DB00574, DB00013, DB01413, DB00887, DB00091, DB00311, DB01242, DB02546, DB13995, DB00100, DB00721, DB00986, DB01162, DB00975, DB11274, DB00360, DB06144, DB00656, DB11311, DB00952, DB09229, DB01198, DB06288, DB14059, DB00669, DB01233, DB00387, DB00703, DB00075, DB01278, DB00640, DB11345, DB08877, DB00841, DB00642, DB01196, DB01614, DB00704, DB13150, DB00132, DB00720, DB00284, DB09016, DB00170, DB00563, DB00575, DB13149, DB01393, DB01571, DB01359, DB00634, DB01395, DB14642, DB00540, DB06207, DB13257, DB01240, DB00298, DB01038, DB01598, DB00295, DB00714, DB12141, DB05381, DB00953, DB01576, DB06707, DB01032, DB08885, DB09109, DB09014, DB12070, DB01624, DB00935, DB08868, DB00611, DB00922, DB00615, DB00652, DB00619, DB09147, DB00647, DB00579, DB11986, DB12831, DB01623, DB01622, DB08875, DB05679, DB01231, DB00929, DB01392, DB11130, DB06626, DB00604, DB13146, DB12332, DB14723, DB01364, DB00281, DB01244, DB00755, DB11477, DB00255, DB00915, DB00140, DB06764, DB01606, DB00048, DB00939, DB06738, DB00216, DB08895, DB01064, DB00809, DB00905, DB01208, DB13998, DB00875, DB00831, DB00321, DB00812, DB13961, DB00811, DB00320, DB01497, DB01138, DB00434, DB00457, DB00318, DB09262, DB01439, DB13933, DB09272, DB13931, DB08910, DB00367, DB15102, DB00880, DB01119, DB01147, DB13999, DB11693, DB00413, DB14050, DB00388, DB00824, DB00866, DB00865, DB00020, DB00330, DB00332, DB11753, DB09223, DB00025, DB06712, DB00327, DB00194, DB00869, DB01154, DB04908, DB01151, DB01150, DB11691, DB00374, DB00411, DB00370, DB00383, DB00315, DB04576, DB04967, DB00497, DB00041, DB00042, DB08818, DB00204, DB01073, DB00184, DB00505, DB06594, DB08922, DB00308, DB14185, DB00514, DB00517, DB00307, DB09074, DB01062, DB00222, DB06779, DB01346, DB00844, DB06217, DB16695, DB14126, DB00384, DB09047, DB01115, DB00836, DB01105, DB01103, DB05266, DB01100, DB00364, DB01454, DB01183, DB00035, DB08916, DB01090, DB01085, DB00484, DB00787, DB06694, DB00489, DB06230, DB04786, DB05271, DB01179, DB01397, DB11718, DB01259, DB01399, DB11689, DB06548, DB00850, DB00945, DB01247, DB16220, DB11560, DB00903, DB00948, DB00895, DB00069, DB11614, DB00068, DB01414, DB01250, DB08918, DB01412, DB08915, DB01251, DB11639, DB08949, DB08912, DB08954, DB08911, DB00921, DB09091, DB00925, DB00872, DB01440, DB00933, DB01405, DB00870, DB00936, DB00937, DB01281, DB01017, DB00949, DB09241, DB01137, DB09270, DB09273, DB01126, DB00032, DB00033, DB01209, DB01117, DB01210, DB09052, DB01109, DB00034, DB01106, DB09076, DB01094, DB16629, DB01088, DB09327, DB16580, DB01083, DB01332, DB09336, DB01074, DB09389, DB00043, DB09242, DB00031, DB01065, DB00029, DB00018, DB01195, DB01199, DB01185, DB01184, DB01182, DB01200, DB09209, DB01283, DB09212, DB09073, DB09215, DB09216, DB09071, DB01168, DB01167, DB01165, DB01202, DB00022, DB01156, DB01155, DB00015, DB00014, DB01148, DB01207, DB01066, DB01214, DB00951, DB00998, DB00995, DB00991, DB11166, DB00989, DB00054, DB06448, DB11201, DB00055, DB00980, DB00978, DB16733, DB00973, DB00060, DB00968, DB00966, DB00005, DB00964, DB09112, DB11312, DB11323, DB01238, DB00960, DB00957, DB00956, DB00004, DB11157, DB00999, DB01059, DB00052, DB01055, DB09034, DB01050, DB09472, DB09033, DB00011, DB09517, DB01031, DB16703, DB01026, DB01024, DB01224, DB01225, DB01021, DB09123, DB09194, DB01016, DB00009, DB00008, DB11079, DB01010, DB01367, DB01369, DB01004, DB06616, DB06725, DB00741, DB11730, DB13896, DB04843, DB00462, DB06151, DB00464, DB00466, DB00467, DB00188, DB08801, DB00476, DB08810, DB00480, DB00481, DB00483, DB00486, DB00458, DB04846, DB00490, DB13954, DB14004, DB00417, DB13994, DB00424, DB13956, DB13955, DB13953, DB13923, DB13952, DB00436, DB04865, DB06711, DB00447, DB00450, DB00487, DB08815, DB13133, DB00559, DB06154, DB13179, DB03849, DB06709, DB03312, DB00558, DB00561, DB13192, DB06176, DB00569, DB06706, DB00577, DB02701, DB08865, DB00545, DB15496, DB00185, DB13615, DB00502, DB13783, DB00509, DB04552, DB00513, DB00521, DB00527, DB00537, DB15493, DB00529, DB00530, DB13346, DB00535, DB15495, DB14011, DB04894, DB00408, DB00299, DB00279, DB00285, DB00286, DB00214, DB06772, DB05351, DB00211, DB00218, DB00304, DB00310, DB05265, DB00316, DB14544, DB14543, DB14731, DB05552, DB00407, DB14962, DB05885, DB14989, DB00239, DB06736, DB15119, DB00245, DB00250, DB06716, DB00257, DB00260, DB06759, DB00267, DB00268, DB14762, DB14542, DB00328, DB00331, DB14041, DB06813, DB00200, DB00373, DB00381, DB00382, DB14042, DB14040, DB15303, DB00392, DB06137, DB00396, DB00399, DB15442, DB04896, DB15327, DB00365, DB00363, DB04941, DB04942, DB04946, DB00357, DB00355, DB00354, DB00205, DB00344, DB00343, DB14538, DB14539, DB14540, DB14541, DB00334, DB00586, DB09098, DB00590, DB00154, DB15797, DB00752, DB00751, DB11967, DB01579, DB06719, DB00740, DB12001, DB00734, DB00733, DB01583, DB08892, DB06698, DB00728, DB12023, DB00685, DB12095, DB00111, DB08891, DB00716, DB00710, DB00709, DB00115, DB01600, DB00698, DB00694, DB00692, DB12267, DB00127, DB00688, DB11952, DB00756, DB11951, DB11943, DB00839, DB00837, DB00834, DB00833, DB00830, DB06681, DB06271, DB00823, DB00822, DB00817, DB11760, DB00813, DB11793, DB01535, DB11799, DB00800, DB01536, DB08901, DB00788, DB00783, DB01548, DB00780, DB00775, DB00095, DB00097, DB00770, DB06216, DB00105, DB00762, DB00686, DB00726, DB01608, DB01620, DB12500, DB12924, DB00603, DB00631, DB01611, DB12893, DB00666, DB06700, DB09095, DB12688, DB00674, DB00595, DB00677, DB06202, DB08867, DB12872, DB12483, DB00643, DB00644, DB06701, DB00623, DB01613, DB06204, DB12612, DB09027, DB06781, DB08870, DB08900, DB06713, DB08930, DB06695, DB06605, DB08828, DB08899, DB06775, DB06654, DB09075, DB08931, DB08932, DB06785, DB06787, DB08933, DB09026, DB06788, DB08873, DB06693, DB06710, DB06774, DB06752, DB06729, DB06718, DB06730, DB06733, DB08903, DB06734, DB08864, DB08904, DB08906, DB09090, DB08907, DB09029, DB06751, DB06702, DB08908, DB09080, DB06754, DB08902, DB06612, DB06606, DB09030, DB06684, DB06688, DB06714, DB06691, DB08860, DB06655, DB06773, DB09082, DB08869, DB08934, DB09035, DB06800, DB08888, DB08439, DB08881, DB09067, DB09066, DB08798, DB09063, DB09061, DB09043, DB08799, DB09045, DB08890, DB08800, DB09059, DB08882, DB08802, DB06699, DB09057, DB08813, DB09054, DB09053, DB06643, DB09046, DB08804, DB08883, DB08805, DB09049, DB08806, DB09048, DB08807, DB08808, DB08816, DB08996, DB08935, DB08960, DB08827, DB08874, DB08809, DB06809, DB08936, DB09018, DB09036, DB06814, DB06817, DB06821, DB06674, DB06696, DB09070, DB08822, DB08879, DB09041, DB06822, DB08894, DB06650, DB08964, DB06825, DB08893, DB08820, DB09038, DB06827, DB09039, DB09040, DB06602, DB08819, DB08382, DB09037, DB00001, DB09101, DB13932, DB14017, DB14012, DB14009, DB13967, DB13949, DB13946, DB13944, DB13943, DB13928, DB13898, DB13925, DB13919, DB13915, DB13914, DB13903, DB13902, DB13901, DB13900, DB14019, DB14033, DB14058, DB14060, DB14575, DB14568, DB14562, DB14520, DB14512, DB14481, DB14146, DB14132, DB14074, DB14072, DB14070, DB14069, DB14065, DB14064, DB14063, DB14062, DB14061, DB13899, DB13897, DB14583, DB12887, DB13144, DB13140, DB13139, DB13127, DB13125, DB13092, DB12978, DB12941, DB12865, DB13894, DB12836, DB12825, DB12808, DB12783, DB12764, DB12615, DB12597, DB12579, DB13158, DB13161, DB13164, DB13166, DB13893, DB13884, DB13881, DB13879, DB13878, DB13874, DB13873, DB13868, DB13867, DB13857, DB13781, DB13746, DB13720, DB13421, DB13200, DB13170, DB13167, DB14581, DB14596, DB12532, DB15897, DB16019, DB15982, DB15941, DB15940, DB15935, DB15900, DB15899, DB15898, DB15873, DB15627, DB15822, DB15762, DB15718, DB15699, DB15694, DB15691, DB15688, DB15685, DB16098, DB16165, DB16226, DB16261, DB16732, DB16694, DB16691, DB16665, DB16640, DB16628, DB16514, DB16453, DB16418, DB16405, DB16394, DB16393, DB16390, DB16385, DB16379, DB16370, DB16353, DB15635, DB15593, DB14597, DB14845, DB14999, DB14975, DB14967, DB14914, DB14901, DB14895, DB14881, DB14864, DB14805, DB15569, DB14761, DB14751, DB14724, DB14707, DB14700, DB14649, DB14641, DB14639, DB15011, DB15035, DB15067, DB15090, DB15568, DB15566, DB15565, DB15498, DB15463, DB15456, DB15444, DB15413, DB15354, DB15328, DB15271, DB15270, DB15248, DB15226, DB15133, DB15100, DB15091, DB12543, DB12530, DB09102, DB09456, DB09552, DB09532, DB09526, DB09513, DB09510, DB09488, DB09477, DB09462, DB09422, DB09329, DB09421, DB09418, DB09369, DB09363, DB09351, DB09343, DB09334, DB09333, DB09555, DB09559, DB09564, DB10770, DB11431, DB11367, DB11365, DB11363, DB11362, DB11348, DB11328, DB11324, DB11235, DB11217, DB11186, DB11160, DB11155, DB11133, DB11131, DB11113, DB11093, DB09330, DB09324, DB11568, DB09148, DB09213, DB09211, DB09198, DB09185, DB09183, DB09173, DB09151, DB09149, DB09129, DB09318, DB09126, DB09124, DB09120, DB09119, DB09116, DB09108, DB09107, DB09103, DB09220, DB09224, DB09227, DB09256, DB09317, DB09310, DB09303, DB09302, DB09300, DB09299, DB09297, DB09296, DB09292, DB09291, DB09289, DB09280, DB09279, DB09274, DB09266, DB09265, DB09258, DB11564, DB11569, DB12499, DB11938, DB12010, DB11995, DB11988, DB11978, DB11976, DB11963, DB11945, DB11942, DB11936, DB11828, DB11928, DB11915, DB11901, DB11866, DB11856, DB11853, DB11842, DB11837, DB12015, DB12016, DB12020, DB12026, DB12498, DB12466, DB12457, DB12442, DB12364, DB12329, DB12323, DB12285, DB12240, DB12202, DB12169, DB12161, DB12159, DB12157, DB12151, DB12130, DB12129, DB11834, DB11827, DB11574, DB11604, DB11633, DB11632, DB11626, DB11623, DB11613, DB11611, DB11607, DB11606, DB11601, DB11796, DB11597, DB11595, DB11591, DB11588, DB11587, DB11586, DB11581, DB11575, DB11640, DB11641, DB11642, DB11644, DB11791, DB11767, DB11761, DB11757, DB11751, DB11740, DB11732, DB11731, DB11726, DB11714, DB11712, DB11703, DB11700, DB11692, DB11676, DB11660, DB11652, DB11699, DB01291, DB06480, DB00610, DB00629, DB00626, DB00625, DB00624, DB00621, DB00620, DB00617, DB00616, DB00612, DB00609, DB00576, DB00605, DB00596, DB00593, DB00592, DB00588, DB00587, DB00585, DB00584, DB00582, DB00630, DB00632, DB00633, DB00635, DB00680, DB00678, DB00673, DB00672, DB00671, DB00670, DB00665, DB00664, DB00663, DB00661, DB00657, DB00655, DB00654, DB00649, DB00648, DB00645, DB00641, DB00637, DB00636, DB00580, DB00573, DB00687, DB00496, DB00518, DB00511, DB00507, DB00504, DB00503, DB00501, DB00500, DB00499, DB00498, DB00495, DB00571, DB00494, DB00492, DB00482, DB00479, DB00478, DB00474, DB00473, DB00472, DB00471, DB00519, DB00520, DB00522, DB00524, DB00565, DB00557, DB00554, DB00552, DB00551, DB00550, DB00549, DB00547, DB00544, DB00543, DB00542, DB00541, DB00539, DB00536, DB00534, DB00533, DB00532, DB00528, DB00525, DB00682, DB00689, DB00896, DB00814, DB00846, DB00843, DB00838, DB00835, DB00828, DB00827, DB00821, DB00820, DB00816, DB00810, DB00785, DB00808, DB00807, DB00806, DB00804, DB00802, DB00798, DB00797, DB00796, DB00792, DB00848, DB00854, DB00855, DB00857, DB00892, DB00890, DB00889, DB00886, DB00884, DB00883, DB00882, DB00881, DB00879, DB00877, DB00876, DB00871, DB00867, DB00864, DB00863, DB00862, DB00861, DB00860, DB00858, DB00790, DB00784, DB00691, DB00717, DB00732, DB00731, DB00730, DB00727, DB00724, DB00723, DB00722, DB00719, DB00718, DB00715, DB00782, DB00712, DB00711, DB00708, DB00706, DB00705, DB00701, DB00700, DB00699, DB00695, DB00735, DB00736, DB00737, DB00744, DB00778, DB00777, DB00774, DB00773, DB00772, DB00771, DB00769, DB00768, DB00765, DB00764, DB00763, DB00760, DB00758, DB00757, DB00754, DB00750, DB00749, DB00748, DB00745, DB00470, DB00469, DB00465, DB00180, DB00198, DB00197, DB00196, DB00195, DB00192, DB00190, DB00187, DB00183, DB00181, DB00179, DB00136, DB00178, DB00177, DB00176, DB00175, DB00169, DB00165, DB00153, DB00152, DB00147, DB00203, DB00206, DB00208, DB00212, DB00253, DB00251, DB00248, DB00240, DB00238, DB00235, DB00234, DB00232, DB00230, DB00229, DB00227, DB00226, DB00224, DB00223, DB00221, DB00220, DB00219, DB00215, DB00213, DB00146, DB00112, DB00461, DB00039, DB00058, DB00056, DB00051, DB00050, DB00047, DB00046, DB00045, DB00044, DB00040, DB00038, DB00110, DB00030, DB00026, DB00024, DB00019, DB00016, DB00012, DB00010, DB00007, DB00006, DB00063, DB00065, DB00066, DB00071, DB00109, DB00108, DB00107, DB00106, DB00102, DB00099, DB00094, DB00093, DB00092, DB00089, DB00087, DB00086, DB00083, DB00082, DB00081, DB00078, DB00074, DB00073, DB00072, DB00256, DB00259, DB00261, DB00394, DB00419, DB00416, DB00414, DB00412, DB00410, DB00409, DB00405, DB00403, DB00400, DB00391, DB00262, DB00390, DB00389, DB00385, DB00380, DB00379, DB00378, DB00377, DB00376, DB00369, DB00420, DB00421, DB00422, DB00425, DB00455, DB00454, DB00453, DB00452, DB00448, DB00444, DB00443, DB00441, DB00440, DB00439, DB00437, DB00435, DB00433, DB00432, DB00431, DB00429, DB00428, DB00427, DB00426, DB00366, DB00362, DB00361, DB00302, DB00300, DB00297, DB00296, DB00294, DB00293, DB00289, DB00288, DB00287, DB00283, DB00282, DB00280, DB00278, DB00276, DB00275, DB00272, DB00269, DB00266, DB00264, DB00263, DB00301, DB00309, DB00359, DB00313, DB00356, DB00353, DB00351, DB00350, DB00348, DB00347, DB00342, DB00341, DB00339, DB00338, DB00337, DB00336, DB00335, DB00325, DB00324, DB00323, DB00322, DB00317, DB00314, DB00894, DB00899, DB06441, DB01488, DB01586, DB01582, DB01581, DB01580, DB01565, DB01564, DB01549, DB01541, DB01537, DB01481, DB01426, DB01466, DB01463, DB01452, DB01444, DB01438, DB01436, DB01433, DB01431, DB01430, DB01590, DB01591, DB01597, DB01599, DB04133, DB03904, DB03614, DB03575, DB02703, DB02638, DB01764, DB01628, DB01626, DB01625, DB01619, DB01618, DB01616, DB01615, DB01612, DB01607, DB01605, DB01604, DB01601, DB01429, DB01425, DB04570, DB01321, DB01340, DB01339, DB01338, DB01337, DB01336, DB01333, DB01330, DB01326, DB01324, DB01320, DB01422, DB01319, DB01309, DB01307, DB01306, DB01301, DB01299, DB01298, DB01297, DB01295, DB01341, DB01342, DB01347, DB01348, DB01421, DB01420, DB01418, DB01416, DB01411, DB01410, DB01409, DB01408, DB01407, DB01403, DB01400, DB01396, DB01394, DB01384, DB01382, DB01380, DB01366, DB01357, DB01349, DB04209, DB04573, DB00900, DB06152, DB06213, DB06212, DB06209, DB06203, DB06196, DB06191, DB06186, DB06168, DB06155, DB06147, DB05773, DB06145, DB06133, DB06073, DB06043, DB06013, DB05990, DB05889, DB05829, DB05812, DB06228, DB06234, DB06237, DB06243, DB06439, DB06429, DB06413, DB06412, DB06403, DB06401, DB06366, DB06335, DB06317, DB06292, DB06290, DB06287, DB06283, DB06282, DB06281, DB06274, DB06273, DB06268, DB06267, DB05777, DB05710, DB04574, DB04842, DB04890, DB04880, DB04878, DB04876, DB04868, DB04861, DB04854, DB04845, DB04844, DB04840, DB05676, DB04839, DB04837, DB04835, DB04834, DB04794, DB04787, DB04743, DB04729, DB04575, DB04895, DB04898, DB04901, DB04905, DB05630, DB05624, DB05595, DB05590, DB05578, DB05521, DB05490, DB05382, DB05332, DB05316, DB05311, DB05246, DB05239, DB05084, DB05039, DB04948, DB04938, DB04931, DB04930, DB00002, DB01289, DB01288, DB01019, DB01046, DB01045, DB01039, DB01037, DB01033, DB01030, DB01029, DB01022, DB01020, DB01018, DB00997, DB01015, DB01013, DB01012, DB01011, DB01009, DB01007, DB01006, DB01005, DB01002, DB01047, DB01048, DB01051, DB01056, DB01091, DB01089, DB01086, DB01084, DB01082, DB01081, DB01080, DB01079, DB01078, DB01076, DB01075, DB01072, DB01071, DB01070, DB01069, DB01067, DB01063, DB01061, DB01057, DB01001, DB00996, DB01285, DB00919, DB00940, DB00938, DB00934, DB00932, DB00928, DB00927, DB00924, DB00923, DB00920, DB00916, DB00994, DB00914, DB00913, DB00912, DB00910, DB00908, DB00906, DB00904, DB00902, DB00901, DB00941, DB00942, DB00943, DB00944, DB00990, DB00987, DB00985, DB00984, DB00983, DB00981, DB00979, DB00977, DB00972, DB00969, DB00967, DB00963, DB00962, DB00961, DB00959, DB00955, DB00950, DB00947, DB00946, DB01092, DB01095, DB01097, DB01219, DB01241, DB01237, DB01234, DB01232, DB01228, DB01227, DB01226, DB01222, DB01220, DB01218, DB01098, DB01217, DB01216, DB01212, DB01211, DB01204, DB01203, DB01201, DB01197, DB01194, DB01245, DB01246, DB01252, DB01253, DB01284, DB01282, DB01279, DB01277, DB01276, DB01275, DB01274, DB01273, DB01272, DB01270, DB01269, DB01265, DB01264, DB01263, DB01262, DB01261, DB01260, DB01257, DB01256, DB01193, DB01192, DB01191, DB01135, DB01132, DB01131, DB01130, DB01129, DB01128, DB01127, DB01125, DB01124, DB01122, DB01121, DB01120, DB01116, DB01114, DB01113, DB01112, DB01110, DB01104, DB01102, DB01101, DB01134, DB01139, DB01190, DB01141, DB01188, DB01180, DB01178, DB01177, DB01176, DB01175, DB01174, DB01172, DB01171, DB01170, DB01166, DB01161, DB01160, DB01158, DB01157, DB01153, DB01146, DB01145, DB01143, DB16740\n"
     ]
    }
   ],
   "source": [
    "# Randomly select drugs\n",
    "df = pd.read_csv(os.path.join(DATA_FOLDER, 'pharmacologically_active.csv'))\n",
    "df = df[['Gene Name', 'Drug IDs']]\n",
    "df['Drug IDs'] = df['Drug IDs'].apply(lambda s: s.split('; '))\n",
    "df = df.explode('Drug IDs')\n",
    "df = df.groupby('Drug IDs')['Gene Name'].apply(list).reset_index(name='Genes')\n",
    "df['Num Genes'] = df['Genes'].apply(lambda l: len(l))\n",
    "df = df.sort_values('Num Genes', ascending=False)  # For visualization\n",
    "# Filter\n",
    "# df = df.loc[df['Num Genes'] >= 10]\n",
    "#### Select drugs at random\n",
    "# np.random.seed(42)\n",
    "# drug_idx = np.random.choice(df.shape[0], 20, replace=False)\n",
    "# df = df.iloc[drug_idx]\n",
    "### Manually select drugs\n",
    "# drug_names = ['DB05541', 'DB01189', 'DB09166', 'DB09089', 'DB09078', 'DB09232']  # MANUAL\n",
    "# df = df.loc[df['Drug IDs'].isin(drug_names)]\n",
    "### END\n",
    "\n",
    "# Annotate based on BBB\n",
    "# TODO: Check that this data is correct, providing opposite results right now\n",
    "df_bbb = pd.read_csv(os.path.join(DATA_FOLDER, 'BBB_plus_dbIDS.csv'), index_col=0)\n",
    "df['BBB'] = df['Drug IDs'].map(lambda x: x in list(df_bbb['ID']))\n",
    "\n",
    "# Format into dicts for speed\n",
    "drug_targets = {r['Drug IDs']: r['Genes'] for _, r in df.iterrows()}\n",
    "drug_bbb = {r['Drug IDs']: r['BBB'] for _, r in df.iterrows()}\n",
    "target_drugs = defaultdict(lambda: [])\n",
    "for drug, targets in drug_targets.items():\n",
    "    for target in targets:\n",
    "        target_drugs[target].append(drug)\n",
    "target_drugs = dict(target_drugs)\n",
    "\n",
    "# CLI\n",
    "print('Selected Drugs: ' + ', '.join(list(drug_targets)))"
   ]
  },
  {
   "cell_type": "code",
   "execution_count": 25,
   "metadata": {},
   "outputs": [
    {
     "name": "stdout",
     "output_type": "stream",
     "text": [
      "BBB Positive: DB00228, DB11148, DB01049, DB01189, DB00463, DB00794, DB01159, DB00753, DB01236, DB01028, DB01437, DB01107, DB00193, DB00252, DB00909, DB01363, DB00028, DB10772, DB00555, DB00333, DB11124, DB11571, DB11300, DB00098, DB13151, DB09228, DB01043, DB00182, DB00191, DB09568, DB01353, DB01351, DB06404, DB00849, DB01483, DB11572, DB11603, DB06607, DB05121, DB01221, DB14738, DB00898, DB15258, DB00893, DB13152, DB00013, DB00100, DB00721, DB11311, DB00075, DB13150, DB13149, DB01032, DB08885, DB09109, DB05679, DB11130, DB00048, DB06738, DB13998, DB00812, DB13961, DB13933, DB13999, DB00020, DB00025, DB00041, DB00042, DB06779, DB16695, DB16220, DB00895, DB00069, DB00068, DB11639, DB08954, DB01440, DB01281, DB00032, DB00033, DB09052, DB01109, DB00034, DB09336, DB00043, DB00031, DB00029, DB00018, DB00022, DB01156, DB00015, DB11166, DB00054, DB00055, DB00060, DB00005, DB11312, DB00004, DB00052, DB01050, DB09033, DB00011, DB01225, DB00009, DB00008, DB13896, DB14004, DB13923, DB13133, DB13192, DB02701, DB00502, DB00285, DB00286, DB14731, DB00407, DB14962, DB15119, DB06759, DB14762, DB14041, DB00382, DB14042, DB14040, DB15303, DB04941, DB00205, DB09098, DB00752, DB00740, DB12023, DB00111, DB00830, DB06681, DB06271, DB00095, DB00097, DB00105, DB12893, DB06700, DB12688, DB12872, DB08870, DB08900, DB06752, DB08904, DB09029, DB06754, DB08902, DB06612, DB06606, DB06688, DB06655, DB06773, DB08869, DB09035, DB08888, DB09066, DB09043, DB09045, DB09057, DB08813, DB06643, DB09046, DB08935, DB08809, DB09036, DB06674, DB08879, DB06822, DB08894, DB06650, DB06602, DB09037, DB00001, DB13932, DB14012, DB14009, DB13898, DB13915, DB13903, DB13902, DB13901, DB13900, DB14562, DB13899, DB13897, DB13144, DB13140, DB13127, DB13894, DB13161, DB13893, DB13884, DB13881, DB13746, DB13200, DB15897, DB15941, DB15940, DB15935, DB15900, DB15899, DB15898, DB15627, DB15762, DB15718, DB15699, DB15691, DB16732, DB16694, DB16665, DB16453, DB16418, DB16405, DB16394, DB16393, DB16385, DB16379, DB16370, DB15635, DB15593, DB14597, DB14999, DB14967, DB14901, DB14864, DB14751, DB14724, DB14707, DB14700, DB15067, DB15090, DB15568, DB15354, DB15271, DB15270, DB15248, DB15226, DB15100, DB12530, DB09456, DB09532, DB09462, DB09422, DB09329, DB09369, DB09363, DB09334, DB09559, DB09564, DB10770, DB11133, DB11131, DB11113, DB11568, DB09185, DB09318, DB09126, DB09108, DB09107, DB09103, DB09224, DB09317, DB09310, DB09303, DB09302, DB09266, DB09258, DB11564, DB11569, DB11988, DB11976, DB11945, DB11928, DB11866, DB11856, DB12498, DB12240, DB12202, DB12169, DB12159, DB12157, DB11834, DB11604, DB11626, DB11607, DB11606, DB11601, DB11597, DB11595, DB11588, DB11767, DB11731, DB11714, DB00617, DB00593, DB00532, DB00785, DB00754, DB00112, DB00039, DB00058, DB00056, DB00051, DB00047, DB00046, DB00045, DB00044, DB00040, DB00038, DB00110, DB00030, DB00026, DB00024, DB00019, DB00016, DB00012, DB00010, DB00063, DB00065, DB00066, DB00071, DB00109, DB00108, DB00107, DB00102, DB00099, DB00094, DB00092, DB00089, DB00087, DB00086, DB00083, DB00082, DB00081, DB00078, DB00074, DB00073, DB00072, DB00454, DB00313, DB00339, DB03904, DB03575, DB01309, DB01307, DB01306, DB01341, DB06186, DB06168, DB05773, DB06073, DB06043, DB05889, DB05829, DB06439, DB06366, DB06317, DB06273, DB05777, DB04842, DB04895, DB04901, DB05595, DB05578, DB05332, DB05311, DB05246, DB05084, DB00002, DB01086, DB01080, DB00996, DB01285, DB00994, DB00913, DB01279, DB01277, DB01276, DB01272, DB01270, DB01269, DB01257, DB01174, DB16740\n",
      "BBB Negative: DB13345, DB00273, DB04855, DB11273, DB13025, DB01558, DB00628, DB00683, DB12404, DB00546, DB00690, DB13335, DB13437, DB09017, DB01595, DB15489, DB01594, DB00897, DB01589, DB00842, DB00829, DB01489, DB01588, DB01587, DB01511, DB00786, DB01544, DB01545, DB01553, DB01068, DB01559, DB13837, DB00404, DB14719, DB01215, DB14715, DB09166, DB13872, DB14672, DB00349, DB14028, DB09089, DB00186, DB00475, DB00312, DB00371, DB00306, DB00241, DB01239, DB09283, DB01956, DB01205, DB00292, DB08896, DB00818, DB09118, DB00907, DB00402, DB01567, DB00237, DB00189, DB13643, DB00231, DB06637, DB00801, DB11859, DB11582, DB09167, DB05541, DB13269, DB09231, DB01331, DB00562, DB09238, DB00606, DB09060, DB00825, DB09085, DB11278, DB01577, DB12107, DB06603, DB00202, DB05015, DB01388, DB00675, DB09232, DB09088, DB09342, DB09345, DB09195, DB00398, DB01000, DB00564, DB09078, DB00242, DB00368, DB09236, DB00653, DB06262, DB00659, DB01329, DB00456, DB16690, DB01268, DB01442, DB00277, DB09079, DB00303, DB00568, DB00201, DB00393, DB00988, DB00578, DB12377, DB08838, DB01602, DB00270, DB00819, DB00477, DB09319, DB09225, DB06579, DB00159, DB00210, DB00131, DB00459, DB14840, DB00668, DB00651, DB00148, DB00274, DB01118, DB00599, DB00591, DB01365, DB00430, DB00485, DB01355, DB13751, DB01354, DB00523, DB13191, DB01352, DB01603, DB12278, DB06589, DB00346, DB11755, DB01496, DB09202, DB09205, DB01173, DB01169, DB01163, DB00696, DB00767, DB00926, DB08889, DB06016, DB00713, DB00418, DB06595, DB01136, DB13985, DB13581, DB08795, DB09204, DB01186, DB00508, DB01303, DB00401, DB00493, DB00415, DB01328, DB01327, DB01325, DB01149, DB09068, DB01054, DB00570, DB00548, DB08897, DB06211, DB01406, DB00739, DB00747, DB00759, DB01036, DB11855, DB01427, DB11800, DB00805, DB01520, DB00852, DB00725, DB00679, DB11275, DB12455, DB11181, DB12598, DB00607, DB00598, DB00589, DB00572, DB00340, DB01023, DB00567, DB00560, DB03313, DB03756, DB01472, DB09093, DB09099, DB00247, DB01267, DB01254, DB09092, DB09128, DB01229, DB01235, DB14879, DB00246, DB09288, DB01744, DB00594, DB00917, DB00799, DB09050, DB01108, DB11817, DB00217, DB12147, DB00451, DB05260, DB00449, DB04841, DB01373, DB00438, DB00319, DB00622, DB01140, DB00627, DB01142, DB01621, DB01144, DB01014, DB00795, DB00067, DB01415, DB15494, DB01044, DB11886, DB01041, DB00244, DB01213, DB04272, DB01034, DB06077, DB01248, DB09401, DB06771, DB00174, DB01223, DB08814, DB00491, DB00574, DB01413, DB00887, DB00091, DB00311, DB01242, DB02546, DB13995, DB00986, DB01162, DB00975, DB11274, DB00360, DB06144, DB00656, DB00952, DB09229, DB01198, DB06288, DB14059, DB00669, DB01233, DB00387, DB00703, DB01278, DB00640, DB11345, DB08877, DB00841, DB00642, DB01196, DB01614, DB00704, DB00132, DB00720, DB00284, DB09016, DB00170, DB00563, DB00575, DB01393, DB01571, DB01359, DB00634, DB01395, DB14642, DB00540, DB06207, DB13257, DB01240, DB00298, DB01038, DB01598, DB00295, DB00714, DB12141, DB05381, DB00953, DB01576, DB06707, DB09014, DB12070, DB01624, DB00935, DB08868, DB00611, DB00922, DB00615, DB00652, DB00619, DB09147, DB00647, DB00579, DB11986, DB12831, DB01623, DB01622, DB08875, DB01231, DB00929, DB01392, DB06626, DB00604, DB13146, DB12332, DB14723, DB01364, DB00281, DB01244, DB00755, DB11477, DB00255, DB00915, DB00140, DB06764, DB01606, DB00939, DB00216, DB08895, DB01064, DB00809, DB00905, DB01208, DB00875, DB00831, DB00321, DB00811, DB00320, DB01497, DB01138, DB00434, DB00457, DB00318, DB09262, DB01439, DB09272, DB13931, DB08910, DB00367, DB15102, DB00880, DB01119, DB01147, DB11693, DB00413, DB14050, DB00388, DB00824, DB00866, DB00865, DB00330, DB00332, DB11753, DB09223, DB06712, DB00327, DB00194, DB00869, DB01154, DB04908, DB01151, DB01150, DB11691, DB00374, DB00411, DB00370, DB00383, DB00315, DB04576, DB04967, DB00497, DB08818, DB00204, DB01073, DB00184, DB00505, DB06594, DB08922, DB00308, DB14185, DB00514, DB00517, DB00307, DB09074, DB01062, DB00222, DB01346, DB00844, DB06217, DB14126, DB00384, DB09047, DB01115, DB00836, DB01105, DB01103, DB05266, DB01100, DB00364, DB01454, DB01183, DB00035, DB08916, DB01090, DB01085, DB00484, DB00787, DB06694, DB00489, DB06230, DB04786, DB05271, DB01179, DB01397, DB11718, DB01259, DB01399, DB11689, DB06548, DB00850, DB00945, DB01247, DB11560, DB00903, DB00948, DB11614, DB01414, DB01250, DB08918, DB01412, DB08915, DB01251, DB08949, DB08912, DB08911, DB00921, DB09091, DB00925, DB00872, DB00933, DB01405, DB00870, DB00936, DB00937, DB01017, DB00949, DB09241, DB01137, DB09270, DB09273, DB01126, DB01209, DB01117, DB01210, DB01106, DB09076, DB01094, DB16629, DB01088, DB09327, DB16580, DB01083, DB01332, DB01074, DB09389, DB09242, DB01065, DB01195, DB01199, DB01185, DB01184, DB01182, DB01200, DB09209, DB01283, DB09212, DB09073, DB09215, DB09216, DB09071, DB01168, DB01167, DB01165, DB01202, DB01155, DB00014, DB01148, DB01207, DB01066, DB01214, DB00951, DB00998, DB00995, DB00991, DB00989, DB06448, DB11201, DB00980, DB00978, DB16733, DB00973, DB00968, DB00966, DB00964, DB09112, DB11323, DB01238, DB00960, DB00957, DB00956, DB11157, DB00999, DB01059, DB01055, DB09034, DB09472, DB09517, DB01031, DB16703, DB01026, DB01024, DB01224, DB01021, DB09123, DB09194, DB01016, DB11079, DB01010, DB01367, DB01369, DB01004, DB06616, DB06725, DB00741, DB11730, DB04843, DB00462, DB06151, DB00464, DB00466, DB00467, DB00188, DB08801, DB00476, DB08810, DB00480, DB00481, DB00483, DB00486, DB00458, DB04846, DB00490, DB13954, DB00417, DB13994, DB00424, DB13956, DB13955, DB13953, DB13952, DB00436, DB04865, DB06711, DB00447, DB00450, DB00487, DB08815, DB00559, DB06154, DB13179, DB03849, DB06709, DB03312, DB00558, DB00561, DB06176, DB00569, DB06706, DB00577, DB08865, DB00545, DB15496, DB00185, DB13615, DB13783, DB00509, DB04552, DB00513, DB00521, DB00527, DB00537, DB15493, DB00529, DB00530, DB13346, DB00535, DB15495, DB14011, DB04894, DB00408, DB00299, DB00279, DB00214, DB06772, DB05351, DB00211, DB00218, DB00304, DB00310, DB05265, DB00316, DB14544, DB14543, DB05552, DB05885, DB14989, DB00239, DB06736, DB00245, DB00250, DB06716, DB00257, DB00260, DB00267, DB00268, DB14542, DB00328, DB00331, DB06813, DB00200, DB00373, DB00381, DB00392, DB06137, DB00396, DB00399, DB15442, DB04896, DB15327, DB00365, DB00363, DB04942, DB04946, DB00357, DB00355, DB00354, DB00344, DB00343, DB14538, DB14539, DB14540, DB14541, DB00334, DB00586, DB00590, DB00154, DB15797, DB00751, DB11967, DB01579, DB06719, DB12001, DB00734, DB00733, DB01583, DB08892, DB06698, DB00728, DB00685, DB12095, DB08891, DB00716, DB00710, DB00709, DB00115, DB01600, DB00698, DB00694, DB00692, DB12267, DB00127, DB00688, DB11952, DB00756, DB11951, DB11943, DB00839, DB00837, DB00834, DB00833, DB00823, DB00822, DB00817, DB11760, DB00813, DB11793, DB01535, DB11799, DB00800, DB01536, DB08901, DB00788, DB00783, DB01548, DB00780, DB00775, DB00770, DB06216, DB00762, DB00686, DB00726, DB01608, DB01620, DB12500, DB12924, DB00603, DB00631, DB01611, DB00666, DB09095, DB00674, DB00595, DB00677, DB06202, DB08867, DB12483, DB00643, DB00644, DB06701, DB00623, DB01613, DB06204, DB12612, DB09027, DB06781, DB06713, DB08930, DB06695, DB06605, DB08828, DB08899, DB06775, DB06654, DB09075, DB08931, DB08932, DB06785, DB06787, DB08933, DB09026, DB06788, DB08873, DB06693, DB06710, DB06774, DB06729, DB06718, DB06730, DB06733, DB08903, DB06734, DB08864, DB08906, DB09090, DB08907, DB06751, DB06702, DB08908, DB09080, DB09030, DB06684, DB06714, DB06691, DB08860, DB09082, DB08934, DB06800, DB08439, DB08881, DB09067, DB08798, DB09063, DB09061, DB08799, DB08890, DB08800, DB09059, DB08882, DB08802, DB06699, DB09054, DB09053, DB08804, DB08883, DB08805, DB09049, DB08806, DB09048, DB08807, DB08808, DB08816, DB08996, DB08960, DB08827, DB08874, DB06809, DB08936, DB09018, DB06814, DB06817, DB06821, DB06696, DB09070, DB08822, DB09041, DB08964, DB06825, DB08893, DB08820, DB09038, DB06827, DB09039, DB09040, DB08819, DB08382, DB09101, DB14017, DB13967, DB13949, DB13946, DB13944, DB13943, DB13928, DB13925, DB13919, DB13914, DB14019, DB14033, DB14058, DB14060, DB14575, DB14568, DB14520, DB14512, DB14481, DB14146, DB14132, DB14074, DB14072, DB14070, DB14069, DB14065, DB14064, DB14063, DB14062, DB14061, DB14583, DB12887, DB13139, DB13125, DB13092, DB12978, DB12941, DB12865, DB12836, DB12825, DB12808, DB12783, DB12764, DB12615, DB12597, DB12579, DB13158, DB13164, DB13166, DB13879, DB13878, DB13874, DB13873, DB13868, DB13867, DB13857, DB13781, DB13720, DB13421, DB13170, DB13167, DB14581, DB14596, DB12532, DB16019, DB15982, DB15873, DB15822, DB15694, DB15688, DB15685, DB16098, DB16165, DB16226, DB16261, DB16691, DB16640, DB16628, DB16514, DB16390, DB16353, DB14845, DB14975, DB14914, DB14895, DB14881, DB14805, DB15569, DB14761, DB14649, DB14641, DB14639, DB15011, DB15035, DB15566, DB15565, DB15498, DB15463, DB15456, DB15444, DB15413, DB15328, DB15133, DB15091, DB12543, DB09102, DB09552, DB09526, DB09513, DB09510, DB09488, DB09477, DB09421, DB09418, DB09351, DB09343, DB09333, DB09555, DB11431, DB11367, DB11365, DB11363, DB11362, DB11348, DB11328, DB11324, DB11235, DB11217, DB11186, DB11160, DB11155, DB11093, DB09330, DB09324, DB09148, DB09213, DB09211, DB09198, DB09183, DB09173, DB09151, DB09149, DB09129, DB09124, DB09120, DB09119, DB09116, DB09220, DB09227, DB09256, DB09300, DB09299, DB09297, DB09296, DB09292, DB09291, DB09289, DB09280, DB09279, DB09274, DB09265, DB12499, DB11938, DB12010, DB11995, DB11978, DB11963, DB11942, DB11936, DB11828, DB11915, DB11901, DB11853, DB11842, DB11837, DB12015, DB12016, DB12020, DB12026, DB12466, DB12457, DB12442, DB12364, DB12329, DB12323, DB12285, DB12161, DB12151, DB12130, DB12129, DB11827, DB11574, DB11633, DB11632, DB11623, DB11613, DB11611, DB11796, DB11591, DB11587, DB11586, DB11581, DB11575, DB11640, DB11641, DB11642, DB11644, DB11791, DB11761, DB11757, DB11751, DB11740, DB11732, DB11726, DB11712, DB11703, DB11700, DB11692, DB11676, DB11660, DB11652, DB11699, DB01291, DB06480, DB00610, DB00629, DB00626, DB00625, DB00624, DB00621, DB00620, DB00616, DB00612, DB00609, DB00576, DB00605, DB00596, DB00592, DB00588, DB00587, DB00585, DB00584, DB00582, DB00630, DB00632, DB00633, DB00635, DB00680, DB00678, DB00673, DB00672, DB00671, DB00670, DB00665, DB00664, DB00663, DB00661, DB00657, DB00655, DB00654, DB00649, DB00648, DB00645, DB00641, DB00637, DB00636, DB00580, DB00573, DB00687, DB00496, DB00518, DB00511, DB00507, DB00504, DB00503, DB00501, DB00500, DB00499, DB00498, DB00495, DB00571, DB00494, DB00492, DB00482, DB00479, DB00478, DB00474, DB00473, DB00472, DB00471, DB00519, DB00520, DB00522, DB00524, DB00565, DB00557, DB00554, DB00552, DB00551, DB00550, DB00549, DB00547, DB00544, DB00543, DB00542, DB00541, DB00539, DB00536, DB00534, DB00533, DB00528, DB00525, DB00682, DB00689, DB00896, DB00814, DB00846, DB00843, DB00838, DB00835, DB00828, DB00827, DB00821, DB00820, DB00816, DB00810, DB00808, DB00807, DB00806, DB00804, DB00802, DB00798, DB00797, DB00796, DB00792, DB00848, DB00854, DB00855, DB00857, DB00892, DB00890, DB00889, DB00886, DB00884, DB00883, DB00882, DB00881, DB00879, DB00877, DB00876, DB00871, DB00867, DB00864, DB00863, DB00862, DB00861, DB00860, DB00858, DB00790, DB00784, DB00691, DB00717, DB00732, DB00731, DB00730, DB00727, DB00724, DB00723, DB00722, DB00719, DB00718, DB00715, DB00782, DB00712, DB00711, DB00708, DB00706, DB00705, DB00701, DB00700, DB00699, DB00695, DB00735, DB00736, DB00737, DB00744, DB00778, DB00777, DB00774, DB00773, DB00772, DB00771, DB00769, DB00768, DB00765, DB00764, DB00763, DB00760, DB00758, DB00757, DB00750, DB00749, DB00748, DB00745, DB00470, DB00469, DB00465, DB00180, DB00198, DB00197, DB00196, DB00195, DB00192, DB00190, DB00187, DB00183, DB00181, DB00179, DB00136, DB00178, DB00177, DB00176, DB00175, DB00169, DB00165, DB00153, DB00152, DB00147, DB00203, DB00206, DB00208, DB00212, DB00253, DB00251, DB00248, DB00240, DB00238, DB00235, DB00234, DB00232, DB00230, DB00229, DB00227, DB00226, DB00224, DB00223, DB00221, DB00220, DB00219, DB00215, DB00213, DB00146, DB00461, DB00050, DB00007, DB00006, DB00106, DB00093, DB00256, DB00259, DB00261, DB00394, DB00419, DB00416, DB00414, DB00412, DB00410, DB00409, DB00405, DB00403, DB00400, DB00391, DB00262, DB00390, DB00389, DB00385, DB00380, DB00379, DB00378, DB00377, DB00376, DB00369, DB00420, DB00421, DB00422, DB00425, DB00455, DB00453, DB00452, DB00448, DB00444, DB00443, DB00441, DB00440, DB00439, DB00437, DB00435, DB00433, DB00432, DB00431, DB00429, DB00428, DB00427, DB00426, DB00366, DB00362, DB00361, DB00302, DB00300, DB00297, DB00296, DB00294, DB00293, DB00289, DB00288, DB00287, DB00283, DB00282, DB00280, DB00278, DB00276, DB00275, DB00272, DB00269, DB00266, DB00264, DB00263, DB00301, DB00309, DB00359, DB00356, DB00353, DB00351, DB00350, DB00348, DB00347, DB00342, DB00341, DB00338, DB00337, DB00336, DB00335, DB00325, DB00324, DB00323, DB00322, DB00317, DB00314, DB00894, DB00899, DB06441, DB01488, DB01586, DB01582, DB01581, DB01580, DB01565, DB01564, DB01549, DB01541, DB01537, DB01481, DB01426, DB01466, DB01463, DB01452, DB01444, DB01438, DB01436, DB01433, DB01431, DB01430, DB01590, DB01591, DB01597, DB01599, DB04133, DB03614, DB02703, DB02638, DB01764, DB01628, DB01626, DB01625, DB01619, DB01618, DB01616, DB01615, DB01612, DB01607, DB01605, DB01604, DB01601, DB01429, DB01425, DB04570, DB01321, DB01340, DB01339, DB01338, DB01337, DB01336, DB01333, DB01330, DB01326, DB01324, DB01320, DB01422, DB01319, DB01301, DB01299, DB01298, DB01297, DB01295, DB01342, DB01347, DB01348, DB01421, DB01420, DB01418, DB01416, DB01411, DB01410, DB01409, DB01408, DB01407, DB01403, DB01400, DB01396, DB01394, DB01384, DB01382, DB01380, DB01366, DB01357, DB01349, DB04209, DB04573, DB00900, DB06152, DB06213, DB06212, DB06209, DB06203, DB06196, DB06191, DB06155, DB06147, DB06145, DB06133, DB06013, DB05990, DB05812, DB06228, DB06234, DB06237, DB06243, DB06429, DB06413, DB06412, DB06403, DB06401, DB06335, DB06292, DB06290, DB06287, DB06283, DB06282, DB06281, DB06274, DB06268, DB06267, DB05710, DB04574, DB04890, DB04880, DB04878, DB04876, DB04868, DB04861, DB04854, DB04845, DB04844, DB04840, DB05676, DB04839, DB04837, DB04835, DB04834, DB04794, DB04787, DB04743, DB04729, DB04575, DB04898, DB04905, DB05630, DB05624, DB05590, DB05521, DB05490, DB05382, DB05316, DB05239, DB05039, DB04948, DB04938, DB04931, DB04930, DB01289, DB01288, DB01019, DB01046, DB01045, DB01039, DB01037, DB01033, DB01030, DB01029, DB01022, DB01020, DB01018, DB00997, DB01015, DB01013, DB01012, DB01011, DB01009, DB01007, DB01006, DB01005, DB01002, DB01047, DB01048, DB01051, DB01056, DB01091, DB01089, DB01084, DB01082, DB01081, DB01079, DB01078, DB01076, DB01075, DB01072, DB01071, DB01070, DB01069, DB01067, DB01063, DB01061, DB01057, DB01001, DB00919, DB00940, DB00938, DB00934, DB00932, DB00928, DB00927, DB00924, DB00923, DB00920, DB00916, DB00914, DB00912, DB00910, DB00908, DB00906, DB00904, DB00902, DB00901, DB00941, DB00942, DB00943, DB00944, DB00990, DB00987, DB00985, DB00984, DB00983, DB00981, DB00979, DB00977, DB00972, DB00969, DB00967, DB00963, DB00962, DB00961, DB00959, DB00955, DB00950, DB00947, DB00946, DB01092, DB01095, DB01097, DB01219, DB01241, DB01237, DB01234, DB01232, DB01228, DB01227, DB01226, DB01222, DB01220, DB01218, DB01098, DB01217, DB01216, DB01212, DB01211, DB01204, DB01203, DB01201, DB01197, DB01194, DB01245, DB01246, DB01252, DB01253, DB01284, DB01282, DB01275, DB01274, DB01273, DB01265, DB01264, DB01263, DB01262, DB01261, DB01260, DB01256, DB01193, DB01192, DB01191, DB01135, DB01132, DB01131, DB01130, DB01129, DB01128, DB01127, DB01125, DB01124, DB01122, DB01121, DB01120, DB01116, DB01114, DB01113, DB01112, DB01110, DB01104, DB01102, DB01101, DB01134, DB01139, DB01190, DB01141, DB01188, DB01180, DB01178, DB01177, DB01176, DB01175, DB01172, DB01171, DB01170, DB01166, DB01161, DB01160, DB01158, DB01157, DB01153, DB01146, DB01145, DB01143\n"
     ]
    }
   ],
   "source": [
    "# DB00228, DB11148: Anaesthetic, anaesthetic\n",
    "print('BBB Positive: ' + ', '.join(df.loc[df['BBB'], 'Drug IDs'].to_list()))\n",
    "\n",
    "# DB13345, DB00273: AD treatment, migraines\n",
    "print('BBB Negative: ' + ', '.join(df.loc[~df['BBB'], 'Drug IDs'].to_list()))"
   ]
  },
  {
   "cell_type": "code",
   "execution_count": 20,
   "metadata": {},
   "outputs": [
    {
     "name": "stdout",
     "output_type": "stream",
     "text": [
      "p-value annotation legend:\n",
      "      ns: 5.00e-02 < p <= 1.00e+00\n",
      "       *: 1.00e-02 < p <= 5.00e-02\n",
      "      **: 1.00e-03 < p <= 1.00e-02\n",
      "     ***: 1.00e-04 < p <= 1.00e-03\n",
      "    ****: p <= 1.00e-04\n",
      "\n",
      "Can Penetrate BBB vs. Cannot Penetrate BBB: Mann-Whitney-Wilcoxon test two-sided, P_val:4.532e-05 U_stat=8.371e+04\n"
     ]
    }
   ],
   "source": [
    "# Create figure\n",
    "fig, ax = plt.subplots(1, 1, figsize=(12, 6), sharex=True, sharey=True)\n",
    "\n",
    "# Create df\n",
    "df_all = pd.DataFrame()\n",
    "for i, fname in enumerate(grn_fnames):\n",
    "    # Load scores\n",
    "    scores = pd.read_csv(os.path.join(RESULTS_FOLDER, get_result_name(fname)), index_col=0)[['label', 'mean', 'std']]\n",
    "\n",
    "    # Format df\n",
    "    df = scores.copy()\n",
    "    df.loc[df['label'] == 0, 'label'] = 'Control'; df.loc[df['label'] == 1, 'label'] = 'Disease'\n",
    "    df = df.rename(columns={'label': 'Label', 'mean': 'Score'})\n",
    "    df['Cell Type'] = get_cell_type(fname)\n",
    "    df_all = pd.concat((df_all, df), axis=0)\n",
    "\n",
    "# Annotate drug targets\n",
    "df_all = df_all.reset_index()\n",
    "df_all['Drugs'] = df_all.apply(lambda row: target_drugs[row['gene']] if row['gene'] in target_drugs else [], axis=1)\n",
    "df_all['Drugs'] = df_all['Drugs'].map(lambda l: l + ['Background'])\n",
    "df_all = df_all.explode('Drugs').rename(columns={'Drugs': 'Drug'})\n",
    "df_all['BBB'] = df_all['Drug'].map(lambda s: drug_bbb[s] if s != 'Background' else pd.NA)\n",
    "df_all['BBB'] = df_all['BBB'].map(lambda e: {True: 1, False: 0, pd.NA: -1}[e])\n",
    "\n",
    "### Group by gene\n",
    "# df = df_all.groupby('gene').max()\n",
    "### Group by drug\n",
    "df = df_all[['Drug', 'Score', 'std', 'BBB']].groupby(['Drug', 'BBB']).mean().reset_index()\n",
    "df = df.loc[df['BBB'] != -1]\n",
    "### END\n",
    "df['BBB'] = df['BBB'].map(lambda e: {1: 'Can Penetrate BBB', 0: 'Cannot Penetrate BBB', -1: 'Background'}[e])\n",
    "\n",
    "# Save for exploration\n",
    "# df.to_csv(os.path.join(PLOTS_FOLDER, 'data.csv'))\n",
    "\n",
    "# Params\n",
    "# hue_order = ['Control', 'Disease']\n",
    "\n",
    "# Plot\n",
    "plt.sca(ax)\n",
    "sns.violinplot(data=df, x='Score', y='BBB', orient='h', split=True)  # , inner='quart'\n",
    "sns.despine()\n",
    "\n",
    "# Annotate significance\n",
    "pairs = []\n",
    "unique_bbb = list(df['BBB'].unique())\n",
    "for i in range(len(unique_bbb)):\n",
    "    for j in range(i+1, len(unique_bbb)):\n",
    "        pairs.append((unique_bbb[i], unique_bbb[j]))\n",
    "annotator = Annotator(ax, pairs, data=df, x='Score', y='BBB', orient='h')\n",
    "annotator.configure(test='Mann-Whitney', text_format='star')\n",
    "results = annotator.apply_test().annotate()\n",
    "\n",
    "# Save figure\n",
    "fig.savefig(os.path.join(PLOTS_FOLDER, f'DistributionDrug_{group}_{disease}.pdf'), bbox_inches='tight')\n",
    "plt.close()"
   ]
  },
  {
   "cell_type": "markdown",
   "metadata": {},
   "source": [
    "# Enrichment Visualizations"
   ]
  },
  {
   "cell_type": "code",
   "execution_count": 24,
   "metadata": {},
   "outputs": [],
   "source": [
    "# Params\n",
    "sort_param = '-log10(q)'\n",
    "origin_file = 'UCLA_ASD_ASD_micro_prioritized_genes'\n",
    "\n",
    "# Enrichment done with rank-order GOrilla\n",
    "enrichment = pd.read_csv(os.path.join(RESULTS_FOLDER, f'{origin_file}_GO.csv'))\n",
    "enrichment['-log10(p)'] = -np.log(enrichment['P-value'])\n",
    "enrichment['-log10(q)'] = -np.log(enrichment['FDR q-value'])\n",
    "\n",
    "# Filter to top\n",
    "enrichment = enrichment.sort_values(sort_param, ascending=False)\n",
    "enrichment = enrichment.iloc[:25]\n",
    "\n",
    "# Create figure\n",
    "fig, ax = plt.subplots(1, 1, figsize=(6, 8))\n",
    "sns.barplot(data=enrichment, x=sort_param, y='Description', ax=ax)\n",
    "ax.set_ylabel(None)\n",
    "ax.axvline(-np.log(.05), color='black')\n",
    "fig.savefig(os.path.join(PLOTS_FOLDER, f'Enrichment_{origin_file}.pdf'), bbox_inches='tight')"
   ]
  }
 ],
 "metadata": {
  "kernelspec": {
   "display_name": "Python 3 (ipykernel)",
   "language": "python",
   "name": "python3"
  },
  "language_info": {
   "codemirror_mode": {
    "name": "ipython",
    "version": 3
   },
   "file_extension": ".py",
   "mimetype": "text/x-python",
   "name": "python",
   "nbconvert_exporter": "python",
   "pygments_lexer": "ipython3",
   "version": "3.10.14"
  }
 },
 "nbformat": 4,
 "nbformat_minor": 2
}
