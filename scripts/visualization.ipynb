{
 "cells": [
  {
   "cell_type": "code",
   "execution_count": 1,
   "metadata": {},
   "outputs": [],
   "source": [
    "%%capture\n",
    "%cd \"Compound GRN ENC Analysis/scripts\""
   ]
  },
  {
   "cell_type": "code",
   "execution_count": 2,
   "metadata": {},
   "outputs": [],
   "source": [
    "import os\n",
    "\n",
    "import matplotlib\n",
    "import matplotlib.pyplot as plt\n",
    "import numpy as np\n",
    "import pandas as pd\n",
    "import seaborn as sns\n",
    "from statannotations.Annotator import Annotator\n",
    "\n",
    "# Params\n",
    "DATA_FOLDER = os.path.join(os.path.abspath(''), '../../data')\n",
    "RESULTS_FOLDER = os.path.join(os.path.abspath(''), '../results')\n",
    "PLOTS_FOLDER = os.path.join(os.path.abspath(''), '../plots')\n",
    "\n",
    "# Style\n",
    "sns.set_theme(context='talk', style='white', palette='Accent')\n",
    "matplotlib.rcParams['pdf.fonttype'] = 42\n",
    "matplotlib.rcParams['ps.fonttype'] = 42\n"
   ]
  },
  {
   "cell_type": "markdown",
   "metadata": {},
   "source": [
    "# Data"
   ]
  },
  {
   "cell_type": "code",
   "execution_count": 3,
   "metadata": {},
   "outputs": [],
   "source": [
    "\"\"\"\n",
    "Cohort : Disease : Delimiter\n",
    "CMC: SCZ : tsv\n",
    "UCLA_ASD: ASD : csv\n",
    "Urban_DLPFC: BPD, SCZ : tsv\n",
    "\"\"\"\n",
    "group = ['CMC', 'UCLA_ASD', 'Urban_DLPFC'][1]\n",
    "disease = ['SCZ', 'ASD', 'BPD'][1]\n",
    "delimiter = [',', '\\t'][0]"
   ]
  },
  {
   "cell_type": "code",
   "execution_count": 4,
   "metadata": {},
   "outputs": [],
   "source": [
    "# Get AD, BPD, and SCZ labels\n",
    "gene_dir = os.path.join(DATA_FOLDER, 'new_labels')\n",
    "gene_fnames = [fname for fname in os.listdir(gene_dir) if fname.endswith('.txt')]\n",
    "gene_lists = {'.'.join(fname.split('.')[:-1]): np.loadtxt(os.path.join(gene_dir, fname), dtype=str) for fname in gene_fnames}\n",
    "gene_lists['BPD'] = gene_lists.pop('BD')\n",
    "\n",
    "# Get ASD labels\n",
    "sfari = pd.read_csv(os.path.join(DATA_FOLDER, 'sfari/SFARI-Gene_genes_01-16-2024release_03-21-2024export.csv'))\n",
    "gene_score_threshold = -1\n",
    "sfari = sfari.loc[sfari['gene-score'] > gene_score_threshold]  # Threshold by score\n",
    "gene_lists['ASD'] = sfari['gene-symbol'].to_numpy()\n",
    "\n",
    "# Set positive genes\n",
    "positive_genes = gene_lists[disease]\n",
    "\n",
    "# Get files for contrast\n",
    "base_dir = os.path.join(DATA_FOLDER, 'merged_GRNs_v2', group)\n",
    "disease_folder = os.path.join(base_dir, disease)\n",
    "control_folder = os.path.join(base_dir, 'ctrl')\n",
    "grn_fnames = os.listdir(control_folder)  # Should be the same names in either folder\n",
    "\n",
    "# Get groups and cell-type based on fname\n",
    "get_cell_type = lambda fname: '_'.join(fname.split('_')[:-1])\n",
    "# Convert to result file name\n",
    "get_result_name = lambda fname: f'{group}_{disease}_{get_cell_type(fname)}_prioritized_genes.csv'"
   ]
  },
  {
   "cell_type": "markdown",
   "metadata": {},
   "source": [
    "# Network Analyses"
   ]
  },
  {
   "cell_type": "code",
   "execution_count": 5,
   "metadata": {},
   "outputs": [],
   "source": [
    "%matplotlib agg"
   ]
  },
  {
   "cell_type": "markdown",
   "metadata": {},
   "source": [
    "## In and Out Degrees"
   ]
  },
  {
   "cell_type": "code",
   "execution_count": 6,
   "metadata": {},
   "outputs": [],
   "source": [
    "# Create figures\n",
    "num_panels = len(grn_fnames)\n",
    "fig, ax = {}, {}\n",
    "key = 'out'; fig[key], ax[key] = plt.subplots(1, num_panels+1, figsize=(3*(num_panels+1), 3), sharex=True, sharey=True)  # Out\n",
    "key = 'in'; fig[key], ax[key] = plt.subplots(1, num_panels+1, figsize=(3*(num_panels+1), 3), sharex=True, sharey=True)  # In\n",
    "for k in ax: ax[k] = ax[k].flatten()\n",
    "\n",
    "# Construct consistent objects\n",
    "sm = plt.cm.ScalarMappable(cmap='Reds', norm=plt.Normalize(0, 1))\n",
    "\n",
    "# Plot network analyses\n",
    "for i, fname in enumerate(grn_fnames):\n",
    "    # Load graph\n",
    "    disease_graph = pd.read_csv(os.path.join(disease_folder, fname), index_col=False, delimiter=delimiter)\n",
    "    disease_graph['disease'] = 'Disease'\n",
    "    control_graph = pd.read_csv(os.path.join(control_folder, fname), index_col=False, delimiter=delimiter)\n",
    "    control_graph['disease'] = 'Control'\n",
    "    combined_graph = pd.concat((disease_graph, control_graph), axis=0)\n",
    "\n",
    "    # Load scores\n",
    "    scores = pd.read_csv(os.path.join(RESULTS_FOLDER, get_result_name(fname)), index_col=0)[['label', 'mean', 'std']]\n",
    "\n",
    "    # Out degree plot\n",
    "    plt.sca(ax['out'][i])\n",
    "    out_degree_df = combined_graph.copy()\n",
    "    out_degree_df['Out Degree'] = 1\n",
    "    out_degree_df = out_degree_df[['TF', 'disease', 'Out Degree']].groupby(['TF', 'disease']).sum().reset_index()\n",
    "    out_degree_df = out_degree_df.pivot(index='TF', columns='disease', values='Out Degree').fillna(0)\n",
    "    out_degree_df = out_degree_df.join(scores, on='TF')\n",
    "    out_degree_df = out_degree_df[['Control', 'Disease', 'mean']].groupby(['Control', 'Disease']).mean().reset_index()\n",
    "    sns.scatterplot(data=out_degree_df, x='Control', y='Disease', hue='mean', palette='Reds')\n",
    "    sns.despine()\n",
    "    plt.xlabel('Control'); plt.ylabel('Disease')\n",
    "    plt.title('Out Degree')\n",
    "    plt.gca().get_legend().remove()\n",
    "\n",
    "    # In degree plot\n",
    "    plt.sca(ax['in'][i])\n",
    "    in_degree_df = combined_graph.copy()\n",
    "    in_degree_df['In Degree'] = 1\n",
    "    in_degree_df = in_degree_df[['target', 'disease', 'In Degree']].groupby(['target', 'disease']).sum().reset_index()\n",
    "    in_degree_df = in_degree_df.pivot(index='target', columns='disease', values='In Degree').fillna(0)\n",
    "    in_degree_df = in_degree_df.join(scores, on='target')\n",
    "    in_degree_df = in_degree_df[['Control', 'Disease', 'mean']].groupby(['Control', 'Disease']).mean().reset_index()\n",
    "    sns.scatterplot(data=in_degree_df, x='Control', y='Disease', hue='mean', palette='Reds')\n",
    "    sns.despine()\n",
    "    plt.xlabel('Control'); plt.ylabel('Disease')\n",
    "    plt.title('In Degree')\n",
    "    plt.gca().get_legend().remove()\n",
    "\n",
    "# Insert colorbars\n",
    "key = 'out'; ax[key][-1].axis('off'); fig[key].colorbar(sm, ax=ax[key][-1])\n",
    "key = 'in'; ax[key][-1].axis('off'); fig[key].colorbar(sm, ax=ax[key][-1])\n",
    "\n",
    "# Save figures\n",
    "fig['out'].savefig(os.path.join(PLOTS_FOLDER, f'DegreeOut_{group}_{disease}.pdf'), bbox_inches='tight')\n",
    "fig['in'].savefig(os.path.join(PLOTS_FOLDER, f'DegreeIn_{group}_{disease}.pdf'), bbox_inches='tight')\n",
    "\n",
    "# Close figs\n",
    "plt.close()"
   ]
  },
  {
   "cell_type": "markdown",
   "metadata": {},
   "source": [
    "## Score by Label"
   ]
  },
  {
   "cell_type": "code",
   "execution_count": 7,
   "metadata": {},
   "outputs": [
    {
     "name": "stdout",
     "output_type": "stream",
     "text": [
      "p-value annotation legend:\n",
      "      ns: 5.00e-02 < p <= 1.00e+00\n",
      "       *: 1.00e-02 < p <= 5.00e-02\n",
      "      **: 1.00e-03 < p <= 1.00e-02\n",
      "     ***: 1.00e-04 < p <= 1.00e-03\n",
      "    ****: p <= 1.00e-04\n",
      "\n",
      "endo_Control vs. endo_Disease: Mann-Whitney-Wilcoxon test two-sided, P_val:3.305e-19 U_stat=5.933e+05\n",
      "astro_Control vs. astro_Disease: Mann-Whitney-Wilcoxon test two-sided, P_val:1.950e-08 U_stat=5.384e+05\n",
      "excitatory_Control vs. excitatory_Disease: Mann-Whitney-Wilcoxon test two-sided, P_val:1.796e-06 U_stat=3.531e+05\n",
      "micro_Control vs. micro_Disease: Mann-Whitney-Wilcoxon test two-sided, P_val:9.003e-29 U_stat=4.805e+05\n",
      "oligo_Control vs. oligo_Disease: Mann-Whitney-Wilcoxon test two-sided, P_val:3.740e-16 U_stat=5.983e+05\n",
      "opc_Control vs. opc_Disease: Mann-Whitney-Wilcoxon test two-sided, P_val:2.265e-18 U_stat=4.654e+05\n",
      "vlmc_Control vs. vlmc_Disease: Mann-Whitney-Wilcoxon test two-sided, P_val:7.735e-15 U_stat=8.582e+05\n"
     ]
    }
   ],
   "source": [
    "# Create figure\n",
    "fig, ax = plt.subplots(1, 1, figsize=(2*num_panels, 6), sharex=True, sharey=True)\n",
    "\n",
    "# Create df\n",
    "df_all = pd.DataFrame()\n",
    "for i, fname in enumerate(grn_fnames):\n",
    "    # Load scores\n",
    "    scores = pd.read_csv(os.path.join(RESULTS_FOLDER, get_result_name(fname)), index_col=0)[['label', 'mean', 'std']]\n",
    "\n",
    "    # Format df\n",
    "    df = scores.copy()\n",
    "    df.loc[df['label'] == 0, 'label'] = 'Control'; df.loc[df['label'] == 1, 'label'] = 'Disease'\n",
    "    df = df.rename(columns={'label': 'Label', 'mean': 'Score'})\n",
    "    df['Cell Type'] = get_cell_type(fname)\n",
    "    df_all = pd.concat((df_all, df), axis=0)\n",
    "\n",
    "# Params\n",
    "hue_order = ['Control', 'Disease']\n",
    "\n",
    "# Plot\n",
    "plt.sca(ax)\n",
    "sns.violinplot(data=df_all, x='Cell Type', y='Score', hue='Label', hue_order=hue_order, split=True, inner='quart', density_norm='count')\n",
    "sns.despine()\n",
    "# plt.title('Score Distribution by Label')\n",
    "\n",
    "# Annotate significance\n",
    "pairs = [((ct, hue_order[0]), (ct, hue_order[1])) for ct in df_all['Cell Type'].unique()]\n",
    "annotator = Annotator(ax, pairs, data=df_all, x='Cell Type', y='Score', hue='Label', hue_order=hue_order)\n",
    "annotator.configure(test='Mann-Whitney', text_format='star', loc='outside')\n",
    "results = annotator.apply_test().annotate()\n",
    "\n",
    "# Save figure\n",
    "fig.savefig(os.path.join(PLOTS_FOLDER, f'DistributionScore_{group}_{disease}.pdf'), bbox_inches='tight')\n",
    "plt.close()"
   ]
  },
  {
   "cell_type": "markdown",
   "metadata": {},
   "source": [
    "## Score by Graph"
   ]
  },
  {
   "cell_type": "code",
   "execution_count": 8,
   "metadata": {},
   "outputs": [
    {
     "name": "stdout",
     "output_type": "stream",
     "text": [
      "p-value annotation legend:\n",
      "      ns: 5.00e-02 < p <= 1.00e+00\n",
      "       *: 1.00e-02 < p <= 5.00e-02\n",
      "      **: 1.00e-03 < p <= 1.00e-02\n",
      "     ***: 1.00e-04 < p <= 1.00e-03\n",
      "    ****: p <= 1.00e-04\n",
      "\n",
      "endo_Control vs. endo_Disease: Mann-Whitney-Wilcoxon test two-sided, P_val:3.004e-18 U_stat=4.030e+06\n",
      "astro_Control vs. astro_Disease: Mann-Whitney-Wilcoxon test two-sided, P_val:1.711e-45 U_stat=2.642e+06\n",
      "excitatory_Control vs. excitatory_Disease: Mann-Whitney-Wilcoxon test two-sided, P_val:8.070e-13 U_stat=2.338e+06\n",
      "micro_Control vs. micro_Disease: Mann-Whitney-Wilcoxon test two-sided, P_val:4.191e-73 U_stat=2.980e+06\n",
      "oligo_Control vs. oligo_Disease: Mann-Whitney-Wilcoxon test two-sided, P_val:7.588e-32 U_stat=3.992e+06\n",
      "opc_Control vs. opc_Disease: Mann-Whitney-Wilcoxon test two-sided, P_val:5.479e-49 U_stat=2.936e+06\n",
      "vlmc_Control vs. vlmc_Disease: Mann-Whitney-Wilcoxon test two-sided, P_val:1.045e-82 U_stat=5.033e+06\n"
     ]
    }
   ],
   "source": [
    "# Create figure\n",
    "fig, ax = plt.subplots(1, 1, figsize=(2*num_panels, 6), sharex=True, sharey=True)\n",
    "\n",
    "# Create df\n",
    "df_all = pd.DataFrame()\n",
    "for i, fname in enumerate(grn_fnames):\n",
    "    # Load graph\n",
    "    disease_graph = pd.read_csv(os.path.join(disease_folder, fname), index_col=False, delimiter=delimiter)\n",
    "    disease_graph['disease'] = 'Disease'\n",
    "    control_graph = pd.read_csv(os.path.join(control_folder, fname), index_col=False, delimiter=delimiter)\n",
    "    control_graph['disease'] = 'Control'\n",
    "    combined_graph = pd.concat((disease_graph, control_graph), axis=0)\n",
    "\n",
    "    # Load scores\n",
    "    scores = pd.read_csv(os.path.join(RESULTS_FOLDER, get_result_name(fname)), index_col=0)[['label', 'mean', 'std']]\n",
    "\n",
    "    # Format df\n",
    "    control_genes = np.unique(control_graph['TF'].to_list() + control_graph['target'].to_list())\n",
    "    control_genes = list(set(control_genes).intersection(set(scores.index)))\n",
    "    control_df = pd.DataFrame({'genes': control_genes})\n",
    "    control_df['Graph'] = 'Control'\n",
    "    disease_genes = np.unique(disease_graph['TF'].to_list() + disease_graph['target'].to_list())\n",
    "    disease_genes = list(set(disease_genes).intersection(set(scores.index)))\n",
    "    disease_df = pd.DataFrame({'genes': disease_genes})\n",
    "    disease_df['Graph'] = 'Disease'\n",
    "    df = pd.concat((control_df, disease_df), axis=0).reset_index(drop=True)\n",
    "    df = df.join(scores, on='genes')\n",
    "    df = df.rename(columns={'mean': 'Score'})\n",
    "    df['Cell Type'] = get_cell_type(fname)\n",
    "    df_all = pd.concat((df_all, df), axis=0)\n",
    "\n",
    "# Params\n",
    "hue_order = ['Control', 'Disease']\n",
    "\n",
    "# Plot\n",
    "plt.sca(ax)\n",
    "sns.violinplot(data=df_all, x='Cell Type', y='Score', hue='Graph', hue_order=hue_order, split=True, inner='quart', density_norm='count')\n",
    "sns.despine()\n",
    "# plt.title('Score Distribution by Graph')\n",
    "\n",
    "# Annotate significance\n",
    "pairs = [((ct, hue_order[0]), (ct, hue_order[1])) for ct in df_all['Cell Type'].unique()]\n",
    "annotator = Annotator(ax, pairs, data=df_all, x='Cell Type', y='Score', hue='Graph', hue_order=hue_order)\n",
    "annotator.configure(test='Mann-Whitney', text_format='star', loc='outside')\n",
    "results = annotator.apply_test().annotate()\n",
    "\n",
    "# Save figure\n",
    "fig.savefig(os.path.join(PLOTS_FOLDER, f'DistributionDisease_{group}_{disease}.pdf'), bbox_inches='tight')\n",
    "plt.close()"
   ]
  },
  {
   "cell_type": "markdown",
   "metadata": {},
   "source": [
    "## Drug Targets"
   ]
  },
  {
   "cell_type": "code",
   "execution_count": 9,
   "metadata": {},
   "outputs": [],
   "source": [
    "# Parameters\n",
    "drug_targets = {\n",
    "    'Drug A': ['ATXN1', 'HMGA1', 'TBX15', 'ETV7', 'ZBTB14', 'EPHA4', 'C2CD2', 'MDM2', 'KLF11', 'PTAFR'],\n",
    "    'Drug B': ['OPRK1', 'HDAC2-AS2', 'HES1', 'S1PR1', 'ADAM33', 'SMAD7', 'ZNF607', 'CDKN2D', 'ADK', 'MAPK8IP1'],\n",
    "    'Drug C': ['ANPEP', 'PDE11A', 'RSAD2', 'RASSF5', 'ONECUT2', 'PDIA5', 'CNGB1', 'ZNF124', 'GTF2I', 'HS3ST5'],\n",
    "    'Drug D': ['IL18', 'SLFN12L', 'OMG', 'DOK6', 'RBBP9', 'IGFBP7', 'MARCH3', 'NIPA1', 'ZEB1-AS1', 'RGS18'],\n",
    "    'Drug E': ['BACH1', 'CYFIP2', 'FMNL3', 'TEKT3', 'HMG20A', 'MTUS2', 'SLITRK5', 'ZNF687', 'HCFC1', 'GDPD4'],\n",
    "    'Drug F': ['TRMO', 'KITLG', 'ARHGAP10', 'ZNF655', 'CPTP', 'KCNF1', 'VSX2', 'MAP1LC3B2', 'TENM4', 'ZNF711'],\n",
    "}"
   ]
  },
  {
   "cell_type": "code",
   "execution_count": 10,
   "metadata": {},
   "outputs": [
    {
     "name": "stdout",
     "output_type": "stream",
     "text": [
      "p-value annotation legend:\n",
      "      ns: 5.00e-02 < p <= 1.00e+00\n",
      "       *: 1.00e-02 < p <= 5.00e-02\n",
      "      **: 1.00e-03 < p <= 1.00e-02\n",
      "     ***: 1.00e-04 < p <= 1.00e-03\n",
      "    ****: p <= 1.00e-04\n",
      "\n",
      "Background vs. Drug A: Mann-Whitney-Wilcoxon test two-sided, P_val:2.447e-01 U_stat=7.083e+05\n",
      "Background vs. Drug B: Mann-Whitney-Wilcoxon test two-sided, P_val:2.354e-02 U_stat=4.322e+05\n",
      "Background vs. Drug C: Mann-Whitney-Wilcoxon test two-sided, P_val:3.782e-01 U_stat=5.587e+05\n",
      "Background vs. Drug D: Mann-Whitney-Wilcoxon test two-sided, P_val:2.652e-01 U_stat=7.120e+05\n",
      "Background vs. Drug E: Mann-Whitney-Wilcoxon test two-sided, P_val:4.743e-01 U_stat=5.677e+05\n",
      "Background vs. Drug F: Mann-Whitney-Wilcoxon test two-sided, P_val:1.233e-01 U_stat=5.634e+05\n"
     ]
    }
   ],
   "source": [
    "# Create figure\n",
    "fig, ax = plt.subplots(1, 1, figsize=(12, 6), sharex=True, sharey=True)\n",
    "\n",
    "# Create df\n",
    "df_all = pd.DataFrame()\n",
    "for i, fname in enumerate(grn_fnames):\n",
    "    # Load scores\n",
    "    scores = pd.read_csv(os.path.join(RESULTS_FOLDER, get_result_name(fname)), index_col=0)[['label', 'mean', 'std']]\n",
    "\n",
    "    # Format df\n",
    "    df = scores.copy()\n",
    "    df.loc[df['label'] == 0, 'label'] = 'Control'; df.loc[df['label'] == 1, 'label'] = 'Disease'\n",
    "    df = df.rename(columns={'label': 'Label', 'mean': 'Score'})\n",
    "    df['Cell Type'] = get_cell_type(fname)\n",
    "    df_all = pd.concat((df_all, df), axis=0)\n",
    "\n",
    "# Annotate drug targets\n",
    "df_all = df_all.reset_index()\n",
    "df_all['Drug'] = 'Background'\n",
    "for name, targets in drug_targets.items():\n",
    "    df = df_all.loc[df_all['gene'].isin(targets)].copy()\n",
    "    df['Drug'] = name\n",
    "    df_all = pd.concat((df_all, df), axis=0)\n",
    "\n",
    "# # Params\n",
    "# hue_order = ['Control', 'Disease']\n",
    "\n",
    "# # Plot\n",
    "plt.sca(ax)\n",
    "sns.violinplot(data=df_all, x='Score', y='Drug', orient='h')  # , inner='quart'\n",
    "sns.despine()\n",
    "\n",
    "# Annotate significance\n",
    "pairs = [('Background', name) for name in drug_targets]\n",
    "annotator = Annotator(ax, pairs, data=df_all, x='Score', y='Drug', orient='h')\n",
    "annotator.configure(test='Mann-Whitney', text_format='star')\n",
    "results = annotator.apply_test().annotate()\n",
    "\n",
    "# Save figure\n",
    "fig.savefig(os.path.join(PLOTS_FOLDER, f'DistributionDrug_{group}_{disease}.pdf'), bbox_inches='tight')\n",
    "plt.close()"
   ]
  },
  {
   "cell_type": "code",
   "execution_count": null,
   "metadata": {},
   "outputs": [],
   "source": []
  }
 ],
 "metadata": {
  "kernelspec": {
   "display_name": "Python 3 (ipykernel)",
   "language": "python",
   "name": "python3"
  },
  "language_info": {
   "codemirror_mode": {
    "name": "ipython",
    "version": 3
   },
   "file_extension": ".py",
   "mimetype": "text/x-python",
   "name": "python",
   "nbconvert_exporter": "python",
   "pygments_lexer": "ipython3",
   "version": "3.10.14"
  }
 },
 "nbformat": 4,
 "nbformat_minor": 2
}
